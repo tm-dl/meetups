{
 "cells": [
  {
   "cell_type": "raw",
   "metadata": {},
   "source": [
    "From https://blog.keras.io/building-autoencoders-in-keras.html"
   ]
  },
  {
   "cell_type": "code",
   "execution_count": 1,
   "metadata": {},
   "outputs": [
    {
     "name": "stderr",
     "output_type": "stream",
     "text": [
      "Using TensorFlow backend.\n"
     ]
    }
   ],
   "source": [
    "import keras\n",
    "import tensorflow as tf\n",
    "from keras import layers\n",
    "from keras.datasets import mnist\n",
    "import numpy as np\n",
    "import matplotlib.pyplot as plt\n",
    "import time\n",
    "from tensorflow.keras.callbacks import TensorBoard"
   ]
  },
  {
   "cell_type": "code",
   "execution_count": 2,
   "metadata": {},
   "outputs": [],
   "source": [
    "# size of the encoding representation\n",
    "encoding_dim = 32"
   ]
  },
  {
   "cell_type": "markdown",
   "metadata": {},
   "source": [
    "# Prepare the data"
   ]
  },
  {
   "cell_type": "code",
   "execution_count": 3,
   "metadata": {},
   "outputs": [],
   "source": [
    "(x_train, _), (x_test, _) = mnist.load_data()"
   ]
  },
  {
   "cell_type": "markdown",
   "metadata": {},
   "source": [
    "# Normalize the data"
   ]
  },
  {
   "cell_type": "code",
   "execution_count": 4,
   "metadata": {},
   "outputs": [
    {
     "name": "stdout",
     "output_type": "stream",
     "text": [
      "(60000, 784)\n",
      "(10000, 784)\n"
     ]
    }
   ],
   "source": [
    "x_train = x_train.astype('float32') / 255.\n",
    "x_test = x_test.astype('float32') / 255.\n",
    "x_train = x_train.reshape((len(x_train), np.prod(x_train.shape[1:])))\n",
    "x_test = x_test.reshape((len(x_test), np.prod(x_test.shape[1:])))\n",
    "print(x_train.shape)\n",
    "print(x_test.shape)\n"
   ]
  },
  {
   "cell_type": "markdown",
   "metadata": {},
   "source": [
    "# Build the simplest AE"
   ]
  },
  {
   "cell_type": "code",
   "execution_count": 5,
   "metadata": {},
   "outputs": [],
   "source": [
    "# This is our input image\n",
    "input_img = tf.keras.Input(shape=(784,))\n",
    "\n",
    "# \"encoded\" is the encoded representation of the input\n",
    "encoded = tf.keras.layers.Dense(encoding_dim, activation='relu')(input_img)\n",
    "\n",
    "# \"decoded\" is the lossy reconstruction of the input\n",
    "decoded = tf.keras.layers.Dense(784, activation='sigmoid')(encoded)\n",
    "\n",
    "# This model maps an input to its reconstruction\n",
    "autoencoder = tf.keras.Model(input_img, decoded)\n"
   ]
  },
  {
   "cell_type": "markdown",
   "metadata": {},
   "source": [
    "# Separate encoder model"
   ]
  },
  {
   "cell_type": "code",
   "execution_count": 6,
   "metadata": {},
   "outputs": [],
   "source": [
    "encoder = tf.keras.Model(input_img, encoded)"
   ]
  },
  {
   "cell_type": "markdown",
   "metadata": {},
   "source": [
    "# Separate decoder model"
   ]
  },
  {
   "cell_type": "code",
   "execution_count": 7,
   "metadata": {},
   "outputs": [],
   "source": [
    "# This is our encoded (32-dimensional) input\n",
    "encoded_input = tf.keras.Input(shape=(encoding_dim,))\n",
    "# Retrieve the last layer of the autoencoder model\n",
    "decoder_layer = autoencoder.layers[-1]\n",
    "# Create the decoder model\n",
    "decoder = tf.keras.Model(encoded_input, decoder_layer(encoded_input))\n"
   ]
  },
  {
   "cell_type": "markdown",
   "metadata": {},
   "source": [
    "# Compile the AE"
   ]
  },
  {
   "cell_type": "code",
   "execution_count": 8,
   "metadata": {},
   "outputs": [],
   "source": [
    "autoencoder.compile(optimizer='adam', loss='binary_crossentropy')"
   ]
  },
  {
   "cell_type": "markdown",
   "metadata": {},
   "source": [
    "# Train the AE"
   ]
  },
  {
   "cell_type": "code",
   "execution_count": 9,
   "metadata": {},
   "outputs": [
    {
     "name": "stdout",
     "output_type": "stream",
     "text": [
      "Train on 60000 samples, validate on 10000 samples\n",
      "Epoch 1/50\n",
      "60000/60000 [==============================] - 4s 63us/sample - loss: 0.2745 - val_loss: 0.1876\n",
      "Epoch 2/50\n",
      "60000/60000 [==============================] - 3s 54us/sample - loss: 0.1707 - val_loss: 0.1542\n",
      "Epoch 3/50\n",
      "60000/60000 [==============================] - 3s 51us/sample - loss: 0.1449 - val_loss: 0.1348\n",
      "Epoch 4/50\n",
      "60000/60000 [==============================] - 3s 51us/sample - loss: 0.1295 - val_loss: 0.1224\n",
      "Epoch 5/50\n",
      "60000/60000 [==============================] - 3s 50us/sample - loss: 0.1190 - val_loss: 0.1137\n",
      "Epoch 6/50\n",
      "60000/60000 [==============================] - 3s 52us/sample - loss: 0.1116 - val_loss: 0.1073\n",
      "Epoch 7/50\n",
      "60000/60000 [==============================] - 3s 53us/sample - loss: 0.1062 - val_loss: 0.1029\n",
      "Epoch 8/50\n",
      "60000/60000 [==============================] - 3s 51us/sample - loss: 0.1022 - val_loss: 0.0994\n",
      "Epoch 9/50\n",
      "60000/60000 [==============================] - 3s 50us/sample - loss: 0.0994 - val_loss: 0.0971\n",
      "Epoch 10/50\n",
      "60000/60000 [==============================] - 3s 50us/sample - loss: 0.0974 - val_loss: 0.0954\n",
      "Epoch 11/50\n",
      "60000/60000 [==============================] - 3s 50us/sample - loss: 0.0961 - val_loss: 0.0944\n",
      "Epoch 12/50\n",
      "60000/60000 [==============================] - 3s 51us/sample - loss: 0.0953 - val_loss: 0.0937\n",
      "Epoch 13/50\n",
      "60000/60000 [==============================] - 3s 50us/sample - loss: 0.0947 - val_loss: 0.0932\n",
      "Epoch 14/50\n",
      "60000/60000 [==============================] - 3s 50us/sample - loss: 0.0943 - val_loss: 0.0929\n",
      "Epoch 15/50\n",
      "60000/60000 [==============================] - 3s 50us/sample - loss: 0.0940 - val_loss: 0.0926\n",
      "Epoch 16/50\n",
      "60000/60000 [==============================] - 3s 49us/sample - loss: 0.0938 - val_loss: 0.0925\n",
      "Epoch 17/50\n",
      "60000/60000 [==============================] - 3s 50us/sample - loss: 0.0937 - val_loss: 0.0924\n",
      "Epoch 18/50\n",
      "60000/60000 [==============================] - 3s 49us/sample - loss: 0.0935 - val_loss: 0.0923\n",
      "Epoch 19/50\n",
      "60000/60000 [==============================] - 3s 50us/sample - loss: 0.0934 - val_loss: 0.0921\n",
      "Epoch 20/50\n",
      "60000/60000 [==============================] - 3s 51us/sample - loss: 0.0933 - val_loss: 0.0921\n",
      "Epoch 21/50\n",
      "60000/60000 [==============================] - 3s 50us/sample - loss: 0.0933 - val_loss: 0.0920\n",
      "Epoch 22/50\n",
      "60000/60000 [==============================] - 3s 50us/sample - loss: 0.0932 - val_loss: 0.0920\n",
      "Epoch 23/50\n",
      "60000/60000 [==============================] - 3s 49us/sample - loss: 0.0931 - val_loss: 0.0919\n",
      "Epoch 24/50\n",
      "60000/60000 [==============================] - 3s 50us/sample - loss: 0.0931 - val_loss: 0.0918\n",
      "Epoch 25/50\n",
      "60000/60000 [==============================] - 3s 52us/sample - loss: 0.0930 - val_loss: 0.0919\n",
      "Epoch 26/50\n",
      "60000/60000 [==============================] - 3s 50us/sample - loss: 0.0930 - val_loss: 0.0919\n",
      "Epoch 27/50\n",
      "60000/60000 [==============================] - 3s 50us/sample - loss: 0.0930 - val_loss: 0.0918\n",
      "Epoch 28/50\n",
      "60000/60000 [==============================] - 3s 50us/sample - loss: 0.0929 - val_loss: 0.0917\n",
      "Epoch 29/50\n",
      "60000/60000 [==============================] - 3s 47us/sample - loss: 0.0929 - val_loss: 0.0917\n",
      "Epoch 30/50\n",
      "60000/60000 [==============================] - 3s 49us/sample - loss: 0.0929 - val_loss: 0.0917\n",
      "Epoch 31/50\n",
      "60000/60000 [==============================] - 3s 49us/sample - loss: 0.0929 - val_loss: 0.0916\n",
      "Epoch 32/50\n",
      "60000/60000 [==============================] - 3s 49us/sample - loss: 0.0928 - val_loss: 0.0917\n",
      "Epoch 33/50\n",
      "60000/60000 [==============================] - 3s 49us/sample - loss: 0.0928 - val_loss: 0.0917\n",
      "Epoch 34/50\n",
      "60000/60000 [==============================] - 3s 48us/sample - loss: 0.0928 - val_loss: 0.0917\n",
      "Epoch 35/50\n",
      "60000/60000 [==============================] - 3s 49us/sample - loss: 0.0928 - val_loss: 0.0917\n",
      "Epoch 36/50\n",
      "60000/60000 [==============================] - 3s 49us/sample - loss: 0.0928 - val_loss: 0.0916\n",
      "Epoch 37/50\n",
      "60000/60000 [==============================] - 3s 51us/sample - loss: 0.0927 - val_loss: 0.0916\n",
      "Epoch 38/50\n",
      "60000/60000 [==============================] - 3s 50us/sample - loss: 0.0927 - val_loss: 0.0916\n",
      "Epoch 39/50\n",
      "60000/60000 [==============================] - 3s 50us/sample - loss: 0.0927 - val_loss: 0.0916\n",
      "Epoch 40/50\n",
      "60000/60000 [==============================] - 3s 49us/sample - loss: 0.0927 - val_loss: 0.0916\n",
      "Epoch 41/50\n",
      "60000/60000 [==============================] - 3s 49us/sample - loss: 0.0927 - val_loss: 0.0916\n",
      "Epoch 42/50\n",
      "60000/60000 [==============================] - 3s 49us/sample - loss: 0.0927 - val_loss: 0.0916\n",
      "Epoch 43/50\n",
      "60000/60000 [==============================] - 3s 47us/sample - loss: 0.0927 - val_loss: 0.0915\n",
      "Epoch 44/50\n",
      "60000/60000 [==============================] - 3s 50us/sample - loss: 0.0927 - val_loss: 0.0915\n",
      "Epoch 45/50\n",
      "60000/60000 [==============================] - 3s 54us/sample - loss: 0.0927 - val_loss: 0.0916\n",
      "Epoch 46/50\n",
      "60000/60000 [==============================] - 3s 53us/sample - loss: 0.0927 - val_loss: 0.0916\n",
      "Epoch 47/50\n",
      "60000/60000 [==============================] - 3s 53us/sample - loss: 0.0926 - val_loss: 0.0915\n",
      "Epoch 48/50\n",
      "60000/60000 [==============================] - 4s 60us/sample - loss: 0.0926 - val_loss: 0.0915\n",
      "Epoch 49/50\n",
      "60000/60000 [==============================] - 3s 51us/sample - loss: 0.0926 - val_loss: 0.0915\n",
      "Epoch 50/50\n",
      "60000/60000 [==============================] - 3s 57us/sample - loss: 0.0926 - val_loss: 0.0915\n",
      "Elapsed time: 00:02:32.86\n"
     ]
    }
   ],
   "source": [
    "start_train_time = time.time()\n",
    "autoencoder.fit(x_train, x_train,\n",
    "                epochs=50,\n",
    "                batch_size=256,\n",
    "                shuffle=True,\n",
    "                validation_data=(x_test, x_test))\n",
    "\n",
    "end_train_time = time.time()\n",
    "hours_train, rem = divmod(end_train_time-start_train_time, 3600)\n",
    "minutes_train, seconds_train = divmod(rem, 60)\n",
    "print(\"Elapsed time: {:0>2}:{:0>2}:{:05.2f}\".format(int(hours_train),int(minutes_train),seconds_train))"
   ]
  },
  {
   "cell_type": "markdown",
   "metadata": {},
   "source": [
    "# Encode and decode some digits"
   ]
  },
  {
   "cell_type": "code",
   "execution_count": 10,
   "metadata": {},
   "outputs": [],
   "source": [
    "encoded_imgs = encoder.predict(x_test)\n",
    "decoded_imgs = decoder.predict(encoded_imgs)"
   ]
  },
  {
   "cell_type": "markdown",
   "metadata": {},
   "source": [
    "# Plot the original and reconstructed data"
   ]
  },
  {
   "cell_type": "code",
   "execution_count": 11,
   "metadata": {},
   "outputs": [
    {
     "data": {
      "image/png": "[encoded data removed]",
      "text/plain": [
       "<Figure size 1440x288 with 20 Axes>"
      ]
     },
     "metadata": {
      "needs_background": "light"
     },
     "output_type": "display_data"
    }
   ],
   "source": [
    "n = 10  # How many digits we will display\n",
    "plt.figure(figsize=(20, 4))\n",
    "for i in range(n):\n",
    "    # Display original\n",
    "    ax = plt.subplot(2, n, i + 1)\n",
    "    plt.imshow(x_test[i].reshape(28, 28))\n",
    "    plt.gray()\n",
    "    ax.get_xaxis().set_visible(False)\n",
    "    ax.get_yaxis().set_visible(False)\n",
    "\n",
    "    # Display reconstruction\n",
    "    ax = plt.subplot(2, n, i + 1 + n)\n",
    "    plt.imshow(decoded_imgs[i].reshape(28, 28))\n",
    "    plt.gray()\n",
    "    ax.get_xaxis().set_visible(False)\n",
    "    ax.get_yaxis().set_visible(False)\n",
    "plt.show()"
   ]
  },
  {
   "cell_type": "markdown",
   "metadata": {},
   "source": [
    "# Convolutional autoencoder"
   ]
  },
  {
   "cell_type": "markdown",
   "metadata": {},
   "source": [
    "### Ecoder "
   ]
  },
  {
   "cell_type": "code",
   "execution_count": 11,
   "metadata": {},
   "outputs": [],
   "source": [
    "input_img = tf.keras.Input(shape=(28, 28, 1))\n",
    "\n",
    "x = tf.keras.layers.Conv2D(16, (3, 3), activation='relu', padding='same')(input_img)\n",
    "x = tf.keras.layers.MaxPooling2D((2, 2), padding='same')(x)\n",
    "x = tf.keras.layers.Conv2D(8, (3, 3), activation='relu', padding='same')(x)\n",
    "x = tf.keras.layers.MaxPooling2D((2, 2), padding='same')(x)\n",
    "x = tf.keras.layers.Conv2D(8, (3, 3), activation='relu', padding='same')(x)\n",
    "encoded = tf.keras.layers.MaxPooling2D((2, 2), padding='same')(x)"
   ]
  },
  {
   "cell_type": "markdown",
   "metadata": {},
   "source": [
    "### Decoder"
   ]
  },
  {
   "cell_type": "code",
   "execution_count": 12,
   "metadata": {},
   "outputs": [],
   "source": [
    "x = tf.keras.layers.Conv2D(8, (3, 3), activation='relu', padding='same')(encoded)\n",
    "x = tf.keras.layers.UpSampling2D((2, 2))(x)\n",
    "x = tf.keras.layers.Conv2D(8, (3, 3), activation='relu', padding='same')(x)\n",
    "x = tf.keras.layers.UpSampling2D((2, 2))(x)\n",
    "x = tf.keras.layers.Conv2D(16, (3, 3), activation='relu')(x)\n",
    "x = tf.keras.layers.UpSampling2D((2, 2))(x)\n",
    "decoded = tf.keras.layers.Conv2D(1, (3, 3), activation='sigmoid', padding='same')(x)"
   ]
  },
  {
   "cell_type": "markdown",
   "metadata": {},
   "source": [
    "### Autoencoder"
   ]
  },
  {
   "cell_type": "code",
   "execution_count": 13,
   "metadata": {},
   "outputs": [],
   "source": [
    "autoencoder = tf.keras.Model(input_img, decoded)"
   ]
  },
  {
   "cell_type": "code",
   "execution_count": 14,
   "metadata": {},
   "outputs": [
    {
     "name": "stdout",
     "output_type": "stream",
     "text": [
      "Model: \"model_3\"\n",
      "_________________________________________________________________\n",
      "Layer (type)                 Output Shape              Param #   \n",
      "=================================================================\n",
      "input_3 (InputLayer)         [(None, 28, 28, 1)]       0         \n",
      "_________________________________________________________________\n",
      "conv2d (Conv2D)              (None, 28, 28, 16)        160       \n",
      "_________________________________________________________________\n",
      "max_pooling2d (MaxPooling2D) (None, 14, 14, 16)        0         \n",
      "_________________________________________________________________\n",
      "conv2d_1 (Conv2D)            (None, 14, 14, 8)         1160      \n",
      "_________________________________________________________________\n",
      "max_pooling2d_1 (MaxPooling2 (None, 7, 7, 8)           0         \n",
      "_________________________________________________________________\n",
      "conv2d_2 (Conv2D)            (None, 7, 7, 8)           584       \n",
      "_________________________________________________________________\n",
      "max_pooling2d_2 (MaxPooling2 (None, 4, 4, 8)           0         \n",
      "_________________________________________________________________\n",
      "conv2d_3 (Conv2D)            (None, 4, 4, 8)           584       \n",
      "_________________________________________________________________\n",
      "up_sampling2d (UpSampling2D) (None, 8, 8, 8)           0         \n",
      "_________________________________________________________________\n",
      "conv2d_4 (Conv2D)            (None, 8, 8, 8)           584       \n",
      "_________________________________________________________________\n",
      "up_sampling2d_1 (UpSampling2 (None, 16, 16, 8)         0         \n",
      "_________________________________________________________________\n",
      "conv2d_5 (Conv2D)            (None, 14, 14, 16)        1168      \n",
      "_________________________________________________________________\n",
      "up_sampling2d_2 (UpSampling2 (None, 28, 28, 16)        0         \n",
      "_________________________________________________________________\n",
      "conv2d_6 (Conv2D)            (None, 28, 28, 1)         145       \n",
      "=================================================================\n",
      "Total params: 4,385\n",
      "Trainable params: 4,385\n",
      "Non-trainable params: 0\n",
      "_________________________________________________________________\n"
     ]
    }
   ],
   "source": [
    "autoencoder.summary()"
   ]
  },
  {
   "cell_type": "markdown",
   "metadata": {},
   "source": [
    "# Compile the model"
   ]
  },
  {
   "cell_type": "code",
   "execution_count": 15,
   "metadata": {},
   "outputs": [],
   "source": [
    "autoencoder.compile(optimizer='adam', loss='binary_crossentropy')"
   ]
  },
  {
   "cell_type": "markdown",
   "metadata": {},
   "source": [
    "# Load again the daata"
   ]
  },
  {
   "cell_type": "code",
   "execution_count": 16,
   "metadata": {},
   "outputs": [],
   "source": [
    "(x_train, _), (x_test, _) = mnist.load_data()"
   ]
  },
  {
   "cell_type": "markdown",
   "metadata": {},
   "source": [
    "# Normalize but not unpack, just add channel dimens"
   ]
  },
  {
   "cell_type": "code",
   "execution_count": 17,
   "metadata": {},
   "outputs": [
    {
     "name": "stdout",
     "output_type": "stream",
     "text": [
      "x_train.shape =  (60000, 28, 28, 1)\n",
      "x_test.shape =  (10000, 28, 28, 1)\n"
     ]
    }
   ],
   "source": [
    "x_train = x_train.astype('float32') / 255.\n",
    "x_test = x_test.astype('float32') / 255.\n",
    "x_train = np.reshape(x_train, (len(x_train), 28, 28, 1))\n",
    "x_test = np.reshape(x_test, (len(x_test), 28, 28, 1))\n",
    "\n",
    "print(\"x_train.shape = \",x_train.shape)\n",
    "print(\"x_test.shape = \",x_test.shape)"
   ]
  },
  {
   "cell_type": "markdown",
   "metadata": {},
   "source": [
    "# Train the autoencoder"
   ]
  },
  {
   "cell_type": "code",
   "execution_count": 18,
   "metadata": {},
   "outputs": [
    {
     "name": "stdout",
     "output_type": "stream",
     "text": [
      "Train on 60000 samples, validate on 10000 samples\n",
      "Epoch 1/50\n"
     ]
    },
    {
     "name": "stderr",
     "output_type": "stream",
     "text": [
      "WARNING: Logging before flag parsing goes to stderr.\n",
      "W1103 23:34:05.977822 140476442851136 callbacks.py:248] Method (on_train_batch_end) is slow compared to the batch update (2.626896). Check your callbacks.\n"
     ]
    },
    {
     "name": "stdout",
     "output_type": "stream",
     "text": [
      "\r",
      "  128/60000 [..............................] - ETA: 23:35 - loss: 0.7054"
     ]
    },
    {
     "name": "stderr",
     "output_type": "stream",
     "text": [
      "W1103 23:34:06.081088 140476442851136 callbacks.py:248] Method (on_train_batch_end) is slow compared to the batch update (1.314671). Check your callbacks.\n"
     ]
    },
    {
     "name": "stdout",
     "output_type": "stream",
     "text": [
      "60000/60000 [==============================] - 39s 651us/sample - loss: 0.2132 - val_loss: 0.1417\n",
      "Epoch 2/50\n",
      "60000/60000 [==============================] - 37s 609us/sample - loss: 0.1310 - val_loss: 0.1224\n",
      "Epoch 3/50\n",
      "60000/60000 [==============================] - 37s 610us/sample - loss: 0.1199 - val_loss: 0.1155\n",
      "Epoch 4/50\n",
      "60000/60000 [==============================] - 37s 611us/sample - loss: 0.1144 - val_loss: 0.1113\n",
      "Epoch 5/50\n",
      "60000/60000 [==============================] - 37s 611us/sample - loss: 0.1108 - val_loss: 0.1082\n",
      "Epoch 6/50\n",
      "60000/60000 [==============================] - 37s 614us/sample - loss: 0.1081 - val_loss: 0.1064\n",
      "Epoch 7/50\n",
      "60000/60000 [==============================] - 36s 601us/sample - loss: 0.1061 - val_loss: 0.1041\n",
      "Epoch 8/50\n",
      "60000/60000 [==============================] - 35s 584us/sample - loss: 0.1045 - val_loss: 0.1028\n",
      "Epoch 9/50\n",
      "60000/60000 [==============================] - 35s 583us/sample - loss: 0.1032 - val_loss: 0.1017\n",
      "Epoch 10/50\n",
      "60000/60000 [==============================] - 35s 584us/sample - loss: 0.1021 - val_loss: 0.1003\n",
      "Epoch 11/50\n",
      "60000/60000 [==============================] - 35s 584us/sample - loss: 0.1012 - val_loss: 0.0996\n",
      "Epoch 12/50\n",
      "60000/60000 [==============================] - 35s 584us/sample - loss: 0.1004 - val_loss: 0.0992\n",
      "Epoch 13/50\n",
      "60000/60000 [==============================] - 35s 585us/sample - loss: 0.0997 - val_loss: 0.0983\n",
      "Epoch 14/50\n",
      "60000/60000 [==============================] - 35s 585us/sample - loss: 0.0991 - val_loss: 0.0978\n",
      "Epoch 15/50\n",
      "60000/60000 [==============================] - 35s 587us/sample - loss: 0.0986 - val_loss: 0.0971\n",
      "Epoch 16/50\n",
      "60000/60000 [==============================] - 40s 664us/sample - loss: 0.0981 - val_loss: 0.0967\n",
      "Epoch 17/50\n",
      "60000/60000 [==============================] - 38s 629us/sample - loss: 0.0975 - val_loss: 0.0963\n",
      "Epoch 18/50\n",
      "60000/60000 [==============================] - 38s 632us/sample - loss: 0.0971 - val_loss: 0.0958\n",
      "Epoch 19/50\n",
      "60000/60000 [==============================] - 38s 629us/sample - loss: 0.0967 - val_loss: 0.0955\n",
      "Epoch 20/50\n",
      "60000/60000 [==============================] - 38s 632us/sample - loss: 0.0963 - val_loss: 0.0953\n",
      "Epoch 21/50\n",
      "60000/60000 [==============================] - 42s 695us/sample - loss: 0.0960 - val_loss: 0.0950\n",
      "Epoch 22/50\n",
      "60000/60000 [==============================] - 38s 635us/sample - loss: 0.0957 - val_loss: 0.0956\n",
      "Epoch 23/50\n",
      "60000/60000 [==============================] - 39s 646us/sample - loss: 0.0955 - val_loss: 0.0942\n",
      "Epoch 24/50\n",
      "60000/60000 [==============================] - 39s 653us/sample - loss: 0.0952 - val_loss: 0.0941\n",
      "Epoch 25/50\n",
      "60000/60000 [==============================] - 38s 631us/sample - loss: 0.0950 - val_loss: 0.0937\n",
      "Epoch 26/50\n",
      "60000/60000 [==============================] - 37s 622us/sample - loss: 0.0948 - val_loss: 0.0935\n",
      "Epoch 27/50\n",
      "60000/60000 [==============================] - 37s 621us/sample - loss: 0.0946 - val_loss: 0.0934\n",
      "Epoch 28/50\n",
      "60000/60000 [==============================] - 37s 624us/sample - loss: 0.0943 - val_loss: 0.0933\n",
      "Epoch 29/50\n",
      "60000/60000 [==============================] - 37s 624us/sample - loss: 0.0942 - val_loss: 0.0932\n",
      "Epoch 30/50\n",
      "60000/60000 [==============================] - 37s 625us/sample - loss: 0.0940 - val_loss: 0.0928\n",
      "Epoch 31/50\n",
      "60000/60000 [==============================] - 38s 626us/sample - loss: 0.0939 - val_loss: 0.0925\n",
      "Epoch 32/50\n",
      "60000/60000 [==============================] - 37s 624us/sample - loss: 0.0937 - val_loss: 0.0924\n",
      "Epoch 33/50\n",
      "60000/60000 [==============================] - 37s 624us/sample - loss: 0.0935 - val_loss: 0.0923\n",
      "Epoch 34/50\n",
      "60000/60000 [==============================] - 38s 626us/sample - loss: 0.0934 - val_loss: 0.0923\n",
      "Epoch 35/50\n",
      "60000/60000 [==============================] - 37s 625us/sample - loss: 0.0932 - val_loss: 0.0921\n",
      "Epoch 36/50\n",
      "60000/60000 [==============================] - 37s 624us/sample - loss: 0.0931 - val_loss: 0.0918\n",
      "Epoch 37/50\n",
      "60000/60000 [==============================] - 38s 625us/sample - loss: 0.0930 - val_loss: 0.0918\n",
      "Epoch 38/50\n",
      "60000/60000 [==============================] - 37s 625us/sample - loss: 0.0928 - val_loss: 0.0918\n",
      "Epoch 39/50\n",
      "60000/60000 [==============================] - 37s 623us/sample - loss: 0.0928 - val_loss: 0.0914\n",
      "Epoch 40/50\n",
      "60000/60000 [==============================] - 37s 625us/sample - loss: 0.0926 - val_loss: 0.0913\n",
      "Epoch 41/50\n",
      "60000/60000 [==============================] - 37s 625us/sample - loss: 0.0925 - val_loss: 0.0914\n",
      "Epoch 42/50\n",
      "60000/60000 [==============================] - 37s 625us/sample - loss: 0.0924 - val_loss: 0.0912\n",
      "Epoch 43/50\n",
      "60000/60000 [==============================] - 37s 624us/sample - loss: 0.0923 - val_loss: 0.0911\n",
      "Epoch 44/50\n",
      "60000/60000 [==============================] - 37s 625us/sample - loss: 0.0922 - val_loss: 0.0908\n",
      "Epoch 45/50\n",
      "60000/60000 [==============================] - 38s 625us/sample - loss: 0.0921 - val_loss: 0.0908\n",
      "Epoch 46/50\n",
      "60000/60000 [==============================] - 37s 623us/sample - loss: 0.0920 - val_loss: 0.0908\n",
      "Epoch 47/50\n",
      "60000/60000 [==============================] - 37s 624us/sample - loss: 0.0918 - val_loss: 0.0905\n",
      "Epoch 48/50\n",
      "60000/60000 [==============================] - 36s 605us/sample - loss: 0.0918 - val_loss: 0.0906\n",
      "Epoch 49/50\n",
      "60000/60000 [==============================] - 36s 605us/sample - loss: 0.0917 - val_loss: 0.0908\n",
      "Epoch 50/50\n",
      "60000/60000 [==============================] - 36s 604us/sample - loss: 0.0916 - val_loss: 0.0904\n",
      "Elapsed time: 00:32:12.59\n"
     ]
    }
   ],
   "source": [
    "start_time = time.time()\n",
    "autoencoder.fit(x_train, x_train,\n",
    "                epochs=50,\n",
    "                batch_size=128,\n",
    "                shuffle=True,\n",
    "                validation_data=(x_test, x_test),\n",
    "                callbacks=[TensorBoard(log_dir='/tmp/autoencoder')])\n",
    "end_train_time = time.time()\n",
    "hours_train, rem = divmod(end_train_time-start_train_time, 3600)\n",
    "minutes_train, seconds_train = divmod(rem, 60)\n",
    "print(\"Elapsed time: {:0>2}:{:0>2}:{:05.2f}\".format(int(hours_train),int(minutes_train),seconds_train))"
   ]
  },
  {
   "cell_type": "markdown",
   "metadata": {},
   "source": [
    "# Predict on test data"
   ]
  },
  {
   "cell_type": "code",
   "execution_count": 19,
   "metadata": {},
   "outputs": [],
   "source": [
    "decoded_imgs = autoencoder.predict(x_test)"
   ]
  },
  {
   "cell_type": "markdown",
   "metadata": {},
   "source": [
    "# Plot them"
   ]
  },
  {
   "cell_type": "code",
   "execution_count": 20,
   "metadata": {},
   "outputs": [
    {
     "data": {
      "image/png": "[encoded data removed]",
      "text/plain": [
       "<Figure size 1440x288 with 20 Axes>"
      ]
     },
     "metadata": {
      "needs_background": "light"
     },
     "output_type": "display_data"
    }
   ],
   "source": [
    "n = 10\n",
    "plt.figure(figsize=(20, 4))\n",
    "for i in range(1, n + 1):\n",
    "    # Display original\n",
    "    ax = plt.subplot(2, n, i)\n",
    "    plt.imshow(x_test[i].reshape(28, 28))\n",
    "    plt.gray()\n",
    "    ax.get_xaxis().set_visible(False)\n",
    "    ax.get_yaxis().set_visible(False)\n",
    "\n",
    "    # Display reconstruction\n",
    "    ax = plt.subplot(2, n, i + n)\n",
    "    plt.imshow(decoded_imgs[i].reshape(28, 28))\n",
    "    plt.gray()\n",
    "    ax.get_xaxis().set_visible(False)\n",
    "    ax.get_yaxis().set_visible(False)\n",
    "plt.show()\n"
   ]
  },
  {
   "cell_type": "markdown",
   "metadata": {},
   "source": [
    "# Application to image denoising"
   ]
  },
  {
   "cell_type": "markdown",
   "metadata": {},
   "source": [
    "# Load the data and add noise"
   ]
  },
  {
   "cell_type": "code",
   "execution_count": 21,
   "metadata": {},
   "outputs": [],
   "source": [
    "(x_train, _), (x_test, _) = mnist.load_data()\n",
    "\n",
    "x_train = x_train.astype('float32') / 255.\n",
    "x_test = x_test.astype('float32') / 255.\n",
    "x_train = np.reshape(x_train, (len(x_train), 28, 28, 1))\n",
    "x_test = np.reshape(x_test, (len(x_test), 28, 28, 1))\n",
    "\n",
    "noise_factor = 0.5\n",
    "x_train_noisy = x_train + noise_factor * np.random.normal(loc=0.0, scale=1.0, size=x_train.shape) \n",
    "x_test_noisy = x_test + noise_factor * np.random.normal(loc=0.0, scale=1.0, size=x_test.shape) \n",
    "\n",
    "x_train_noisy = np.clip(x_train_noisy, 0., 1.)\n",
    "x_test_noisy = np.clip(x_test_noisy, 0., 1.)"
   ]
  },
  {
   "cell_type": "markdown",
   "metadata": {},
   "source": [
    "# Plot some noisy digits"
   ]
  },
  {
   "cell_type": "code",
   "execution_count": 22,
   "metadata": {},
   "outputs": [
    {
     "data": {
      "image/png": "[encoded data removed]",
      "text/plain": [
       "<Figure size 1440x144 with 10 Axes>"
      ]
     },
     "metadata": {
      "needs_background": "light"
     },
     "output_type": "display_data"
    }
   ],
   "source": [
    "n = 10\n",
    "plt.figure(figsize=(20, 2))\n",
    "for i in range(1, n + 1):\n",
    "    ax = plt.subplot(1, n, i)\n",
    "    plt.imshow(x_test_noisy[i].reshape(28, 28))\n",
    "    plt.gray()\n",
    "    ax.get_xaxis().set_visible(False)\n",
    "    ax.get_yaxis().set_visible(False)\n",
    "plt.show()\n"
   ]
  },
  {
   "cell_type": "markdown",
   "metadata": {},
   "source": [
    "# Create the autoencoder"
   ]
  },
  {
   "cell_type": "code",
   "execution_count": 23,
   "metadata": {},
   "outputs": [],
   "source": [
    "input_img = tf.keras.Input(shape=(28, 28, 1))\n",
    "\n",
    "x = tf.keras.layers.Conv2D(32, (3, 3), activation='relu', padding='same')(input_img)\n",
    "x = tf.keras.layers.MaxPooling2D((2, 2), padding='same')(x)\n",
    "x = tf.keras.layers.Conv2D(32, (3, 3), activation='relu', padding='same')(x)\n",
    "encoded = tf.keras.layers.MaxPooling2D((2, 2), padding='same')(x)\n",
    "\n",
    "# At this point the representation is (7, 7, 32)\n",
    "\n",
    "x = tf.keras.layers.Conv2D(32, (3, 3), activation='relu', padding='same')(encoded)\n",
    "x = tf.keras.layers.UpSampling2D((2, 2))(x)\n",
    "x = tf.keras.layers.Conv2D(32, (3, 3), activation='relu', padding='same')(x)\n",
    "x = tf.keras.layers.UpSampling2D((2, 2))(x)\n",
    "decoded = tf.keras.layers.Conv2D(1, (3, 3), activation='sigmoid', padding='same')(x)\n",
    "\n",
    "autoencoder = tf.keras.Model(input_img, decoded)\n",
    "autoencoder.compile(optimizer='adam', loss='binary_crossentropy')\n"
   ]
  },
  {
   "cell_type": "markdown",
   "metadata": {},
   "source": [
    "# Train it"
   ]
  },
  {
   "cell_type": "code",
   "execution_count": 24,
   "metadata": {},
   "outputs": [
    {
     "name": "stdout",
     "output_type": "stream",
     "text": [
      "Train on 60000 samples, validate on 10000 samples\n",
      "Epoch 1/10\n",
      "60000/60000 [==============================] - 69s 1ms/sample - loss: 0.1677 - val_loss: 0.1172\n",
      "Epoch 2/10\n",
      "60000/60000 [==============================] - 69s 1ms/sample - loss: 0.1139 - val_loss: 0.1100\n",
      "Epoch 3/10\n",
      "60000/60000 [==============================] - 69s 1ms/sample - loss: 0.1081 - val_loss: 0.1050\n",
      "Epoch 4/10\n",
      "60000/60000 [==============================] - 70s 1ms/sample - loss: 0.1051 - val_loss: 0.1031\n",
      "Epoch 5/10\n",
      "60000/60000 [==============================] - 69s 1ms/sample - loss: 0.1030 - val_loss: 0.1011\n",
      "Epoch 6/10\n",
      "60000/60000 [==============================] - 69s 1ms/sample - loss: 0.1015 - val_loss: 0.0999\n",
      "Epoch 7/10\n",
      "60000/60000 [==============================] - 75s 1ms/sample - loss: 0.1004 - val_loss: 0.0992\n",
      "Epoch 8/10\n",
      "60000/60000 [==============================] - 75s 1ms/sample - loss: 0.0997 - val_loss: 0.0983\n",
      "Epoch 9/10\n",
      "60000/60000 [==============================] - 72s 1ms/sample - loss: 0.0989 - val_loss: 0.0983\n",
      "Epoch 10/10\n",
      "60000/60000 [==============================] - 76s 1ms/sample - loss: 0.0984 - val_loss: 0.0974\n"
     ]
    },
    {
     "data": {
      "text/plain": [
       "<tensorflow.python.keras.callbacks.History at 0x7fc27448c588>"
      ]
     },
     "execution_count": 24,
     "metadata": {},
     "output_type": "execute_result"
    }
   ],
   "source": [
    "autoencoder.fit(x_train_noisy, x_train,\n",
    "                epochs=10,\n",
    "                batch_size=128,\n",
    "                shuffle=True,\n",
    "                validation_data=(x_test_noisy, x_test),\n",
    "                callbacks=[TensorBoard(log_dir='/tmp/tb', histogram_freq=0, write_graph=False)])\n"
   ]
  },
  {
   "cell_type": "markdown",
   "metadata": {},
   "source": [
    "# Encode and decode test data"
   ]
  },
  {
   "cell_type": "code",
   "execution_count": 25,
   "metadata": {},
   "outputs": [],
   "source": [
    "decoded_imgs = autoencoder.predict(x_test)"
   ]
  },
  {
   "cell_type": "markdown",
   "metadata": {},
   "source": [
    "# Plot the original and reconstructed data"
   ]
  },
  {
   "cell_type": "code",
   "execution_count": 26,
   "metadata": {},
   "outputs": [
    {
     "data": {
      "image/png": "[encoded data removed]",
      "text/plain": [
       "<Figure size 1440x288 with 20 Axes>"
      ]
     },
     "metadata": {
      "needs_background": "light"
     },
     "output_type": "display_data"
    }
   ],
   "source": [
    "n = 10  # How many digits we will display\n",
    "plt.figure(figsize=(20, 4))\n",
    "for i in range(n):\n",
    "    # Display original\n",
    "    ax = plt.subplot(2, n, i + 1)\n",
    "    plt.imshow(x_test_noisy[i].reshape(28, 28))\n",
    "    plt.gray()\n",
    "    ax.get_xaxis().set_visible(False)\n",
    "    ax.get_yaxis().set_visible(False)\n",
    "\n",
    "    # Display reconstruction\n",
    "    ax = plt.subplot(2, n, i + 1 + n)\n",
    "    plt.imshow(decoded_imgs[i].reshape(28, 28))\n",
    "    plt.gray()\n",
    "    ax.get_xaxis().set_visible(False)\n",
    "    ax.get_yaxis().set_visible(False)\n",
    "plt.show()"
   ]
  },
  {
   "cell_type": "code",
   "execution_count": null,
   "metadata": {},
   "outputs": [],
   "source": []
  }
 ],
 "metadata": {
  "kernelspec": {
   "display_name": "Python 3",
   "language": "python",
   "name": "python3"
  },
  "language_info": {
   "codemirror_mode": {
    "name": "ipython",
    "version": 3
   },
   "file_extension": ".py",
   "mimetype": "text/x-python",
   "name": "python",
   "nbconvert_exporter": "python",
   "pygments_lexer": "ipython3",
   "version": "3.6.8"
  }
 },
 "nbformat": 4,
 "nbformat_minor": 2
}
