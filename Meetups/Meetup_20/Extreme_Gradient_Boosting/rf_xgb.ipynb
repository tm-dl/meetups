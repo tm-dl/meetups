{
 "cells": [
  {
   "cell_type": "markdown",
   "metadata": {},
   "source": [
    "# Trees"
   ]
  },
  {
   "cell_type": "markdown",
   "metadata": {},
   "source": [
    "<img src=\"./media/nice_tree.jpg\">"
   ]
  },
  {
   "cell_type": "markdown",
   "metadata": {},
   "source": [
    "# Binary Search Tree\n",
    "\n",
    "<img src=\"./media/bstree.jpg\">"
   ]
  },
  {
   "cell_type": "markdown",
   "metadata": {},
   "source": [
    "## YES/NO `questions`\n",
    "\n",
    "A node asks the following question: `Is the number you're looking for greater than me?`"
   ]
  },
  {
   "cell_type": "markdown",
   "metadata": {},
   "source": [
    "- Simple questions\n",
    "- Space partitioning\n",
    "<img src=\"./media/kdtree.png\">"
   ]
  },
  {
   "cell_type": "markdown",
   "metadata": {},
   "source": [
    "# Decision Trees\n",
    "Start with observations, reach a conclusion.\n",
    "<img src=\"./media/decision_tree.jpg\">"
   ]
  },
  {
   "cell_type": "markdown",
   "metadata": {},
   "source": [
    "Further reading:\n",
    "- KD Trees: same concept, generalized to K Dimensions\n",
    "- K Nearest Neighbors - supervized learning using KD Trees\n",
    "- K Means - unsupervized learning, used for clustering  \n",
    "\n",
    "Video introduction to identification trees:\n",
    "- https://ocw.mit.edu/courses/electrical-engineering-and-computer-science/6-034-artificial-intelligence-fall-2010/lecture-videos/lecture-11-learning-identification-trees-disorder/"
   ]
  },
  {
   "cell_type": "markdown",
   "metadata": {},
   "source": [
    "# Regressing using trees - predicting a real number\n",
    "\n",
    "https://www.kaggle.com/c/house-prices-advanced-regression-techniques"
   ]
  },
  {
   "cell_type": "code",
   "execution_count": 325,
   "metadata": {},
   "outputs": [],
   "source": [
    "%matplotlib inline\n",
    "import numpy as np\n",
    "import pandas as pd\n",
    "import matplotlib.pyplot as plt\n",
    "import seaborn as sns\n",
    "from IPython.display import Image\n",
    "from sklearn.metrics import mean_squared_error, mean_squared_log_error\n",
    "plt.rcParams['figure.figsize'] = 16, 9"
   ]
  },
  {
   "cell_type": "code",
   "execution_count": 2,
   "metadata": {},
   "outputs": [
    {
     "data": {
      "text/plain": [
       "(1460, 81)"
      ]
     },
     "execution_count": 2,
     "metadata": {},
     "output_type": "execute_result"
    }
   ],
   "source": [
    "df = pd.read_csv('./data/train.csv')\n",
    "df.shape"
   ]
  },
  {
   "cell_type": "markdown",
   "metadata": {},
   "source": [
    "## Simplest model - predicting the mean"
   ]
  },
  {
   "cell_type": "code",
   "execution_count": 5,
   "metadata": {},
   "outputs": [
    {
     "data": {
      "text/plain": [
       "180921.19589041095"
      ]
     },
     "execution_count": 5,
     "metadata": {},
     "output_type": "execute_result"
    }
   ],
   "source": [
    "df.SalePrice.mean()"
   ]
  },
  {
   "cell_type": "markdown",
   "metadata": {},
   "source": [
    "## Adding more information"
   ]
  },
  {
   "cell_type": "code",
   "execution_count": 6,
   "metadata": {},
   "outputs": [
    {
     "data": {
      "text/html": [
       "<div>\n",
       "<style scoped>\n",
       "    .dataframe tbody tr th:only-of-type {\n",
       "        vertical-align: middle;\n",
       "    }\n",
       "\n",
       "    .dataframe tbody tr th {\n",
       "        vertical-align: top;\n",
       "    }\n",
       "\n",
       "    .dataframe thead th {\n",
       "        text-align: right;\n",
       "    }\n",
       "</style>\n",
       "<table border=\"1\" class=\"dataframe\">\n",
       "  <thead>\n",
       "    <tr style=\"text-align: right;\">\n",
       "      <th></th>\n",
       "      <th>YrSold</th>\n",
       "      <th>SalePrice</th>\n",
       "    </tr>\n",
       "  </thead>\n",
       "  <tbody>\n",
       "    <tr>\n",
       "      <th>0</th>\n",
       "      <td>2008</td>\n",
       "      <td>208500</td>\n",
       "    </tr>\n",
       "    <tr>\n",
       "      <th>1</th>\n",
       "      <td>2007</td>\n",
       "      <td>181500</td>\n",
       "    </tr>\n",
       "    <tr>\n",
       "      <th>2</th>\n",
       "      <td>2008</td>\n",
       "      <td>223500</td>\n",
       "    </tr>\n",
       "    <tr>\n",
       "      <th>3</th>\n",
       "      <td>2006</td>\n",
       "      <td>140000</td>\n",
       "    </tr>\n",
       "    <tr>\n",
       "      <th>4</th>\n",
       "      <td>2008</td>\n",
       "      <td>250000</td>\n",
       "    </tr>\n",
       "  </tbody>\n",
       "</table>\n",
       "</div>"
      ],
      "text/plain": [
       "   YrSold  SalePrice\n",
       "0    2008     208500\n",
       "1    2007     181500\n",
       "2    2008     223500\n",
       "3    2006     140000\n",
       "4    2008     250000"
      ]
     },
     "execution_count": 6,
     "metadata": {},
     "output_type": "execute_result"
    }
   ],
   "source": [
    "df[['YrSold', 'SalePrice']].head()"
   ]
  },
  {
   "cell_type": "code",
   "execution_count": 10,
   "metadata": {},
   "outputs": [
    {
     "data": {
      "text/plain": [
       "<matplotlib.axes._subplots.AxesSubplot at 0x16484dc9da0>"
      ]
     },
     "execution_count": 10,
     "metadata": {},
     "output_type": "execute_result"
    },
    {
     "data": {
      "image/png": "[encoded data removed]",
      "text/plain": [
       "<Figure size 1152x648 with 1 Axes>"
      ]
     },
     "metadata": {
      "needs_background": "light"
     },
     "output_type": "display_data"
    }
   ],
   "source": [
    "sns.boxplot('YrSold', 'SalePrice', data=df)"
   ]
  },
  {
   "cell_type": "markdown",
   "metadata": {},
   "source": [
    "## Simplest regression tree"
   ]
  },
  {
   "cell_type": "code",
   "execution_count": 13,
   "metadata": {},
   "outputs": [],
   "source": [
    "from sklearn.ensemble import RandomForestRegressor\n",
    "import graphviz\n",
    "from sklearn.tree import export_graphviz\n",
    "from sklearn.model_selection import train_test_split"
   ]
  },
  {
   "cell_type": "code",
   "execution_count": 296,
   "metadata": {},
   "outputs": [
    {
     "data": {
      "image/svg+xml": [
       "<?xml version=\"1.0\" encoding=\"UTF-8\" standalone=\"no\"?>\r\n",
       "<!DOCTYPE svg PUBLIC \"-//W3C//DTD SVG 1.1//EN\"\r\n",
       " \"http://www.w3.org/Graphics/SVG/1.1/DTD/svg11.dtd\">\r\n",
       "<!-- Generated by graphviz version 2.38.0 (20140413.2041)\r\n",
       " -->\r\n",
       "<!-- Title: Tree Pages: 1 -->\r\n",
       "<svg width=\"669pt\" height=\"373pt\"\r\n",
       " viewBox=\"0.00 0.00 669.00 373.00\" xmlns=\"http://www.w3.org/2000/svg\" xmlns:xlink=\"http://www.w3.org/1999/xlink\">\r\n",
       "<g id=\"graph0\" class=\"graph\" transform=\"scale(1 1) rotate(0) translate(4 369)\">\r\n",
       "<title>Tree</title>\r\n",
       "<polygon fill=\"white\" stroke=\"none\" points=\"-4,4 -4,-369 665,-369 665,4 -4,4\"/>\r\n",
       "<!-- 0 -->\r\n",
       "<g id=\"node1\" class=\"node\"><title>0</title>\r\n",
       "<polygon fill=\"#e58139\" fill-opacity=\"0.407843\" stroke=\"black\" points=\"359,-365 226,-365 226,-297 359,-297 359,-365\"/>\r\n",
       "<text text-anchor=\"middle\" x=\"292.5\" y=\"-349.8\" font-family=\"Times New Roman,serif\" font-size=\"14.00\">YrSold &lt;= 2007.5</text>\r\n",
       "<text text-anchor=\"middle\" x=\"292.5\" y=\"-334.8\" font-family=\"Times New Roman,serif\" font-size=\"14.00\">mse = 6306788585.3</text>\r\n",
       "<text text-anchor=\"middle\" x=\"292.5\" y=\"-319.8\" font-family=\"Times New Roman,serif\" font-size=\"14.00\">samples = 1460</text>\r\n",
       "<text text-anchor=\"middle\" x=\"292.5\" y=\"-304.8\" font-family=\"Times New Roman,serif\" font-size=\"14.00\">value = 180921.2</text>\r\n",
       "</g>\r\n",
       "<!-- 1 -->\r\n",
       "<g id=\"node2\" class=\"node\"><title>1</title>\r\n",
       "<polygon fill=\"#e58139\" fill-opacity=\"0.803922\" stroke=\"black\" points=\"284,-261 151,-261 151,-193 284,-193 284,-261\"/>\r\n",
       "<text text-anchor=\"middle\" x=\"217.5\" y=\"-245.8\" font-family=\"Times New Roman,serif\" font-size=\"14.00\">YrSold &lt;= 2006.5</text>\r\n",
       "<text text-anchor=\"middle\" x=\"217.5\" y=\"-230.8\" font-family=\"Times New Roman,serif\" font-size=\"14.00\">mse = 6826452950.6</text>\r\n",
       "<text text-anchor=\"middle\" x=\"217.5\" y=\"-215.8\" font-family=\"Times New Roman,serif\" font-size=\"14.00\">samples = 643</text>\r\n",
       "<text text-anchor=\"middle\" x=\"217.5\" y=\"-200.8\" font-family=\"Times New Roman,serif\" font-size=\"14.00\">value = 184347.3</text>\r\n",
       "</g>\r\n",
       "<!-- 0&#45;&gt;1 -->\r\n",
       "<g id=\"edge1\" class=\"edge\"><title>0&#45;&gt;1</title>\r\n",
       "<path fill=\"none\" stroke=\"black\" d=\"M268.15,-296.884C261.731,-288.154 254.724,-278.625 248.025,-269.514\"/>\r\n",
       "<polygon fill=\"black\" stroke=\"black\" points=\"250.729,-267.283 241.985,-261.299 245.089,-271.429 250.729,-267.283\"/>\r\n",
       "<text text-anchor=\"middle\" x=\"238.215\" y=\"-282.313\" font-family=\"Times New Roman,serif\" font-size=\"14.00\">True</text>\r\n",
       "</g>\r\n",
       "<!-- 4 -->\r\n",
       "<g id=\"node5\" class=\"node\"><title>4</title>\r\n",
       "<polygon fill=\"#e58139\" fill-opacity=\"0.098039\" stroke=\"black\" points=\"435,-261 302,-261 302,-193 435,-193 435,-261\"/>\r\n",
       "<text text-anchor=\"middle\" x=\"368.5\" y=\"-245.8\" font-family=\"Times New Roman,serif\" font-size=\"14.00\">YrSold &lt;= 2008.5</text>\r\n",
       "<text text-anchor=\"middle\" x=\"368.5\" y=\"-230.8\" font-family=\"Times New Roman,serif\" font-size=\"14.00\">mse = 5881290473.7</text>\r\n",
       "<text text-anchor=\"middle\" x=\"368.5\" y=\"-215.8\" font-family=\"Times New Roman,serif\" font-size=\"14.00\">samples = 817</text>\r\n",
       "<text text-anchor=\"middle\" x=\"368.5\" y=\"-200.8\" font-family=\"Times New Roman,serif\" font-size=\"14.00\">value = 178224.8</text>\r\n",
       "</g>\r\n",
       "<!-- 0&#45;&gt;4 -->\r\n",
       "<g id=\"edge4\" class=\"edge\"><title>0&#45;&gt;4</title>\r\n",
       "<path fill=\"none\" stroke=\"black\" d=\"M317.175,-296.884C323.679,-288.154 330.78,-278.625 337.568,-269.514\"/>\r\n",
       "<polygon fill=\"black\" stroke=\"black\" points=\"340.52,-271.409 343.689,-261.299 334.907,-267.227 340.52,-271.409\"/>\r\n",
       "<text text-anchor=\"middle\" x=\"347.302\" y=\"-282.337\" font-family=\"Times New Roman,serif\" font-size=\"14.00\">False</text>\r\n",
       "</g>\r\n",
       "<!-- 2 -->\r\n",
       "<g id=\"node3\" class=\"node\"><title>2</title>\r\n",
       "<polygon fill=\"#e58139\" fill-opacity=\"0.596078\" stroke=\"black\" points=\"133,-149.5 0,-149.5 0,-96.5 133,-96.5 133,-149.5\"/>\r\n",
       "<text text-anchor=\"middle\" x=\"66.5\" y=\"-134.3\" font-family=\"Times New Roman,serif\" font-size=\"14.00\">mse = 6288531575.3</text>\r\n",
       "<text text-anchor=\"middle\" x=\"66.5\" y=\"-119.3\" font-family=\"Times New Roman,serif\" font-size=\"14.00\">samples = 314</text>\r\n",
       "<text text-anchor=\"middle\" x=\"66.5\" y=\"-104.3\" font-family=\"Times New Roman,serif\" font-size=\"14.00\">value = 182549.5</text>\r\n",
       "</g>\r\n",
       "<!-- 1&#45;&gt;2 -->\r\n",
       "<g id=\"edge2\" class=\"edge\"><title>1&#45;&gt;2</title>\r\n",
       "<path fill=\"none\" stroke=\"black\" d=\"M168.475,-192.884C150.565,-180.786 130.38,-167.151 112.723,-155.224\"/>\r\n",
       "<polygon fill=\"black\" stroke=\"black\" points=\"114.525,-152.217 104.28,-149.52 110.607,-158.018 114.525,-152.217\"/>\r\n",
       "</g>\r\n",
       "<!-- 3 -->\r\n",
       "<g id=\"node4\" class=\"node\"><title>3</title>\r\n",
       "<polygon fill=\"#e58139\" stroke=\"black\" points=\"284,-149.5 151,-149.5 151,-96.5 284,-96.5 284,-149.5\"/>\r\n",
       "<text text-anchor=\"middle\" x=\"217.5\" y=\"-134.3\" font-family=\"Times New Roman,serif\" font-size=\"14.00\">mse = 7333820019.7</text>\r\n",
       "<text text-anchor=\"middle\" x=\"217.5\" y=\"-119.3\" font-family=\"Times New Roman,serif\" font-size=\"14.00\">samples = 329</text>\r\n",
       "<text text-anchor=\"middle\" x=\"217.5\" y=\"-104.3\" font-family=\"Times New Roman,serif\" font-size=\"14.00\">value = 186063.2</text>\r\n",
       "</g>\r\n",
       "<!-- 1&#45;&gt;3 -->\r\n",
       "<g id=\"edge3\" class=\"edge\"><title>1&#45;&gt;3</title>\r\n",
       "<path fill=\"none\" stroke=\"black\" d=\"M217.5,-192.884C217.5,-182.326 217.5,-170.597 217.5,-159.854\"/>\r\n",
       "<polygon fill=\"black\" stroke=\"black\" points=\"221,-159.52 217.5,-149.52 214,-159.52 221,-159.52\"/>\r\n",
       "</g>\r\n",
       "<!-- 5 -->\r\n",
       "<g id=\"node6\" class=\"node\"><title>5</title>\r\n",
       "<polygon fill=\"none\" stroke=\"black\" points=\"435,-149.5 302,-149.5 302,-96.5 435,-96.5 435,-149.5\"/>\r\n",
       "<text text-anchor=\"middle\" x=\"368.5\" y=\"-134.3\" font-family=\"Times New Roman,serif\" font-size=\"14.00\">mse = 4847058504.8</text>\r\n",
       "<text text-anchor=\"middle\" x=\"368.5\" y=\"-119.3\" font-family=\"Times New Roman,serif\" font-size=\"14.00\">samples = 304</text>\r\n",
       "<text text-anchor=\"middle\" x=\"368.5\" y=\"-104.3\" font-family=\"Times New Roman,serif\" font-size=\"14.00\">value = 177360.8</text>\r\n",
       "</g>\r\n",
       "<!-- 4&#45;&gt;5 -->\r\n",
       "<g id=\"edge5\" class=\"edge\"><title>4&#45;&gt;5</title>\r\n",
       "<path fill=\"none\" stroke=\"black\" d=\"M368.5,-192.884C368.5,-182.326 368.5,-170.597 368.5,-159.854\"/>\r\n",
       "<polygon fill=\"black\" stroke=\"black\" points=\"372,-159.52 368.5,-149.52 365,-159.52 372,-159.52\"/>\r\n",
       "</g>\r\n",
       "<!-- 6 -->\r\n",
       "<g id=\"node7\" class=\"node\"><title>6</title>\r\n",
       "<polygon fill=\"#e58139\" fill-opacity=\"0.156863\" stroke=\"black\" points=\"586,-157 453,-157 453,-89 586,-89 586,-157\"/>\r\n",
       "<text text-anchor=\"middle\" x=\"519.5\" y=\"-141.8\" font-family=\"Times New Roman,serif\" font-size=\"14.00\">YrSold &lt;= 2009.5</text>\r\n",
       "<text text-anchor=\"middle\" x=\"519.5\" y=\"-126.8\" font-family=\"Times New Roman,serif\" font-size=\"14.00\">mse = 6493464273.9</text>\r\n",
       "<text text-anchor=\"middle\" x=\"519.5\" y=\"-111.8\" font-family=\"Times New Roman,serif\" font-size=\"14.00\">samples = 513</text>\r\n",
       "<text text-anchor=\"middle\" x=\"519.5\" y=\"-96.8\" font-family=\"Times New Roman,serif\" font-size=\"14.00\">value = 178736.7</text>\r\n",
       "</g>\r\n",
       "<!-- 4&#45;&gt;6 -->\r\n",
       "<g id=\"edge6\" class=\"edge\"><title>4&#45;&gt;6</title>\r\n",
       "<path fill=\"none\" stroke=\"black\" d=\"M417.525,-192.884C431.707,-183.304 447.315,-172.761 461.965,-162.864\"/>\r\n",
       "<polygon fill=\"black\" stroke=\"black\" points=\"464.135,-165.623 470.462,-157.125 460.217,-159.822 464.135,-165.623\"/>\r\n",
       "</g>\r\n",
       "<!-- 7 -->\r\n",
       "<g id=\"node8\" class=\"node\"><title>7</title>\r\n",
       "<polygon fill=\"#e58139\" fill-opacity=\"0.239216\" stroke=\"black\" points=\"510,-53 377,-53 377,-0 510,-0 510,-53\"/>\r\n",
       "<text text-anchor=\"middle\" x=\"443.5\" y=\"-37.8\" font-family=\"Times New Roman,serif\" font-size=\"14.00\">mse = 6522097622.7</text>\r\n",
       "<text text-anchor=\"middle\" x=\"443.5\" y=\"-22.8\" font-family=\"Times New Roman,serif\" font-size=\"14.00\">samples = 338</text>\r\n",
       "<text text-anchor=\"middle\" x=\"443.5\" y=\"-7.8\" font-family=\"Times New Roman,serif\" font-size=\"14.00\">value = 179432.1</text>\r\n",
       "</g>\r\n",
       "<!-- 6&#45;&gt;7 -->\r\n",
       "<g id=\"edge7\" class=\"edge\"><title>6&#45;&gt;7</title>\r\n",
       "<path fill=\"none\" stroke=\"black\" d=\"M492.919,-88.9485C485.709,-79.9834 477.894,-70.2666 470.653,-61.2629\"/>\r\n",
       "<polygon fill=\"black\" stroke=\"black\" points=\"473.193,-58.8358 464.198,-53.2367 467.738,-63.2228 473.193,-58.8358\"/>\r\n",
       "</g>\r\n",
       "<!-- 8 -->\r\n",
       "<g id=\"node9\" class=\"node\"><title>8</title>\r\n",
       "<polygon fill=\"#e58139\" fill-opacity=\"0.003922\" stroke=\"black\" points=\"661,-53 528,-53 528,-0 661,-0 661,-53\"/>\r\n",
       "<text text-anchor=\"middle\" x=\"594.5\" y=\"-37.8\" font-family=\"Times New Roman,serif\" font-size=\"14.00\">mse = 6435423276.0</text>\r\n",
       "<text text-anchor=\"middle\" x=\"594.5\" y=\"-22.8\" font-family=\"Times New Roman,serif\" font-size=\"14.00\">samples = 175</text>\r\n",
       "<text text-anchor=\"middle\" x=\"594.5\" y=\"-7.8\" font-family=\"Times New Roman,serif\" font-size=\"14.00\">value = 177393.7</text>\r\n",
       "</g>\r\n",
       "<!-- 6&#45;&gt;8 -->\r\n",
       "<g id=\"edge8\" class=\"edge\"><title>6&#45;&gt;8</title>\r\n",
       "<path fill=\"none\" stroke=\"black\" d=\"M545.731,-88.9485C552.846,-79.9834 560.558,-70.2666 567.704,-61.2629\"/>\r\n",
       "<polygon fill=\"black\" stroke=\"black\" points=\"570.599,-63.2454 574.074,-53.2367 565.116,-58.8938 570.599,-63.2454\"/>\r\n",
       "</g>\r\n",
       "</g>\r\n",
       "</svg>\r\n"
      ],
      "text/plain": [
       "<graphviz.files.Source at 0x1648bdd72e8>"
      ]
     },
     "execution_count": 296,
     "metadata": {},
     "output_type": "execute_result"
    }
   ],
   "source": [
    "rf = RandomForestRegressor(n_estimators=1, bootstrap=False)\n",
    "rf.fit(df.YrSold.values.reshape(-1, 1), df.SalePrice)\n",
    "s = export_graphviz(rf.estimators_[0], feature_names=['YrSold'], out_file='simple.dot', filled=True, precision=True)\n",
    "path = 'simple.dot'\n",
    "graphviz.Source.from_file(path)"
   ]
  },
  {
   "cell_type": "markdown",
   "metadata": {},
   "source": [
    "## Adding another column"
   ]
  },
  {
   "cell_type": "code",
   "execution_count": 18,
   "metadata": {},
   "outputs": [
    {
     "data": {
      "text/plain": [
       "'tree.dot.pdf'"
      ]
     },
     "execution_count": 18,
     "metadata": {},
     "output_type": "execute_result"
    }
   ],
   "source": [
    "rf = RandomForestRegressor(n_estimators=1, bootstrap=False)\n",
    "rf.fit(df[['YrSold', 'LotArea']], df.SalePrice)\n",
    "s = export_graphviz(rf.estimators_[0], feature_names=['YrSold', 'LotArea'], out_file='tree.dot', filled=True, precision=True)\n",
    "path = 'tree.dot'\n",
    "s = graphviz.Source.from_file(path)\n",
    "s.view()"
   ]
  },
  {
   "cell_type": "markdown",
   "metadata": {},
   "source": [
    "## Asking the right questions"
   ]
  },
  {
   "cell_type": "markdown",
   "metadata": {},
   "source": [
    "\\begin{align}\n",
    "MSE = \\frac{\\sum{(\\text{expected} - \\text{predicted})}^2}{\\text{number of samples}}\n",
    "\\\\\n",
    "\\\\\n",
    "LOSS = \\frac{MSE(\\text{left}) * len(\\text{left}) + MSE(\\text{right}) * len(\\text{right})}{\\text{number of samples}}\n",
    "\\end{align}"
   ]
  },
  {
   "cell_type": "code",
   "execution_count": 199,
   "metadata": {},
   "outputs": [],
   "source": [
    "chosen_columns = ['YrSold', 'LotArea', 'YearBuilt', 'OverallCond', 'OverallQual']\n",
    "X_raw = df[chosen_columns].values\n",
    "Y_raw = df.SalePrice.values\n",
    "\n",
    "X_train, X_test, Y_train, Y_test = train_test_split(X_raw, Y_raw, test_size=0.2)"
   ]
  },
  {
   "cell_type": "markdown",
   "metadata": {},
   "source": [
    "# Creating our own tree"
   ]
  },
  {
   "cell_type": "markdown",
   "metadata": {},
   "source": [
    "## Cost functions"
   ]
  },
  {
   "cell_type": "code",
   "execution_count": 23,
   "metadata": {},
   "outputs": [],
   "source": [
    "def mse(expected, predicted):\n",
    "    return np.mean(np.square(expected - predicted))"
   ]
  },
  {
   "cell_type": "code",
   "execution_count": 25,
   "metadata": {},
   "outputs": [],
   "source": [
    "def loss(left, right):\n",
    "    return (mse(left, np.mean(left)) * left.size + mse(right, np.mean(right)) * right.size) / (left.size + right.size)"
   ]
  },
  {
   "cell_type": "markdown",
   "metadata": {},
   "source": [
    "## Training"
   ]
  },
  {
   "cell_type": "markdown",
   "metadata": {},
   "source": [
    "<img src=\"./media/rfdepth.png\">"
   ]
  },
  {
   "cell_type": "code",
   "execution_count": 263,
   "metadata": {},
   "outputs": [],
   "source": [
    "def create_tree(X, Y, samples, max_depth=2, min_samples=3, col_proc=0.5, depth=1):\n",
    "    \"\"\"\n",
    "    :param samples: training data\n",
    "    :param depth: current depth\n",
    "    :param max_depth: don't go bellow this level\n",
    "    :param min_samples: make a leaf for fewer samples than this\n",
    "    :param col_proc: percentage of columns to be used as features\n",
    "    \"\"\"\n",
    "    \n",
    "    # Default is the mean\n",
    "    node = dict(value=np.mean(Y[samples]), split=(), samples=len(samples), left=None, right=None)\n",
    "    \n",
    "    # Stop if the maximum depth was reached\n",
    "    if depth > max_depth:\n",
    "        return node\n",
    "\n",
    "    # Create a leaf if there are less than min_samples samples in this node\n",
    "    if len(samples) < min_samples:\n",
    "        return node\n",
    "    \n",
    "    best_cost = None\n",
    "    best_left = []\n",
    "    best_right = []\n",
    "    best_split = ()\n",
    "    \n",
    "    # Choose columns\n",
    "    columns = np.arange(X.shape[1])\n",
    "    np.random.shuffle(columns)\n",
    "    columns = columns[:int(X.shape[1] * col_proc)]\n",
    "    \n",
    "    # Try each column\n",
    "    for col in columns:\n",
    "        values = X[samples, col]\n",
    "        \n",
    "        # Try every possible value as a split point\n",
    "        for split_value in values:\n",
    "            left = []\n",
    "            right = []\n",
    "            \n",
    "            # Partition samples\n",
    "            for s in samples:\n",
    "                if X[s][col] < split_value:\n",
    "                    left.append(s)\n",
    "                else:\n",
    "                    right.append(s)\n",
    "\n",
    "            if len(left) == 0 or len(right) == 0:\n",
    "                continue\n",
    "\n",
    "            # Update best loss\n",
    "            cost = loss(Y[left], Y[right])\n",
    "            if best_cost is None or cost < best_cost:\n",
    "                best_cost = cost\n",
    "                best_left = left\n",
    "                best_right = right\n",
    "                best_split = (split_value, chosen_columns[col])\n",
    "   \n",
    "    # Expand subtrees\n",
    "    if len(best_left) > 0 and len(best_right) > 0:\n",
    "        node['split'] = best_split\n",
    "        node['left'] = create_tree(X, Y, best_left, max_depth=max_depth, min_samples=min_samples, col_proc=col_proc, depth=depth+1)\n",
    "        node['right'] = create_tree(X, Y, best_right, max_depth=max_depth, min_samples=min_samples, col_proc=col_proc, depth=depth+1)\n",
    "    \n",
    "    return node"
   ]
  },
  {
   "cell_type": "markdown",
   "metadata": {},
   "source": [
    "<img src=\"./media/rf_partitioning.gif\">"
   ]
  },
  {
   "cell_type": "code",
   "execution_count": 264,
   "metadata": {},
   "outputs": [],
   "source": [
    "from graphviz import Graph\n",
    "\n",
    "def plot_tree(tree, g=None):\n",
    "        g = g or Graph('G', filename='tree.gv')\n",
    "        node_name = str(tree['samples']) + ' ' + str(tree['split']) + ' ' + str(tree['value'])\n",
    "        for child in ('left', 'right'):\n",
    "            if tree[child] is not None:\n",
    "                child_name = str(tree[child]['samples']) + ' ' + str(tree[child]['split']) + ' ' + str(tree[child]['value'])\n",
    "                g.edge(node_name, child_name)\n",
    "        for child in ('left', 'right'):\n",
    "            if tree[child] is not None:\n",
    "                plot_tree(tree[child], g)\n",
    "        return g"
   ]
  },
  {
   "cell_type": "code",
   "execution_count": 288,
   "metadata": {},
   "outputs": [],
   "source": [
    "tree = create_tree(X_train, Y_train, np.arange(X_train.shape[0]), max_depth=3)"
   ]
  },
  {
   "cell_type": "code",
   "execution_count": 297,
   "metadata": {},
   "outputs": [
    {
     "data": {
      "text/plain": [
       "'tree.gv.pdf'"
      ]
     },
     "execution_count": 297,
     "metadata": {},
     "output_type": "execute_result"
    }
   ],
   "source": [
    "plot_tree(tree).view()"
   ]
  },
  {
   "cell_type": "markdown",
   "metadata": {},
   "source": [
    "## Evaluation"
   ]
  },
  {
   "cell_type": "code",
   "execution_count": 274,
   "metadata": {},
   "outputs": [],
   "source": [
    "def predict_tree(tree, sample):\n",
    "    if tree['left'] is None or tree['right'] is None:\n",
    "        return tree['value']\n",
    "    value, col = tree['split']\n",
    "    col = chosen_columns.index(col)\n",
    "    if sample[col] < value:\n",
    "        return predict_tree(tree['left'], sample)\n",
    "    return predict_tree(tree['right'], sample)"
   ]
  },
  {
   "cell_type": "code",
   "execution_count": 275,
   "metadata": {},
   "outputs": [
    {
     "name": "stdout",
     "output_type": "stream",
     "text": [
      "2169115062.780037 6191585914.697112\n"
     ]
    }
   ],
   "source": [
    "predictions = np.array([predict_tree(tree, sample) for sample in X_test])\n",
    "print(mse(Y_test, predictions), mse(Y_test, np.mean(Y_train)))"
   ]
  },
  {
   "cell_type": "code",
   "execution_count": 276,
   "metadata": {},
   "outputs": [
    {
     "data": {
      "text/plain": [
       "<matplotlib.collections.PathCollection at 0x164890fbfd0>"
      ]
     },
     "execution_count": 276,
     "metadata": {},
     "output_type": "execute_result"
    },
    {
     "data": {
      "image/png": "[encoded data removed]",
      "text/plain": [
       "<Figure size 1152x648 with 1 Axes>"
      ]
     },
     "metadata": {
      "needs_background": "light"
     },
     "output_type": "display_data"
    }
   ],
   "source": [
    "plt.scatter(Y_test, predictions)"
   ]
  },
  {
   "cell_type": "markdown",
   "metadata": {},
   "source": [
    "# Ensembles\n",
    "<img src=\"./media/forest.jpg\">"
   ]
  },
  {
   "cell_type": "markdown",
   "metadata": {},
   "source": [
    "## Bagging - independent learners\n",
    "https://scikit-learn.org/stable/modules/generated/sklearn.ensemble.RandomForestRegressor.html"
   ]
  },
  {
   "cell_type": "markdown",
   "metadata": {},
   "source": [
    "## Boosting - sequential learners, each one learns from previous mistakes\n",
    "https://xgboost.readthedocs.io/en/latest/"
   ]
  },
  {
   "cell_type": "markdown",
   "metadata": {},
   "source": [
    "# Gradient Boosting\n",
    "\n",
    "Best ever explanation of gradient boosting https://explained.ai/gradient-boosting  \n",
    "\n",
    "TL;DR http://blog.kaggle.com/2017/01/23/a-kaggle-master-explains-gradient-boosting/\n",
    "\n",
    "<img src=\"./media/boosting.png\">"
   ]
  },
  {
   "cell_type": "code",
   "execution_count": 421,
   "metadata": {},
   "outputs": [],
   "source": [
    "df_simple = df[['YrSold', 'YearBuilt', 'SalePrice']].head(n=10).copy()\n",
    "X = df_simple.drop('SalePrice', axis='columns').values\n",
    "Y = df_simple.SalePrice.values"
   ]
  },
  {
   "cell_type": "code",
   "execution_count": 422,
   "metadata": {},
   "outputs": [
    {
     "data": {
      "text/html": [
       "<div>\n",
       "<style scoped>\n",
       "    .dataframe tbody tr th:only-of-type {\n",
       "        vertical-align: middle;\n",
       "    }\n",
       "\n",
       "    .dataframe tbody tr th {\n",
       "        vertical-align: top;\n",
       "    }\n",
       "\n",
       "    .dataframe thead th {\n",
       "        text-align: right;\n",
       "    }\n",
       "</style>\n",
       "<table border=\"1\" class=\"dataframe\">\n",
       "  <thead>\n",
       "    <tr style=\"text-align: right;\">\n",
       "      <th></th>\n",
       "      <th>YrSold</th>\n",
       "      <th>YearBuilt</th>\n",
       "      <th>SalePrice</th>\n",
       "    </tr>\n",
       "  </thead>\n",
       "  <tbody>\n",
       "    <tr>\n",
       "      <th>0</th>\n",
       "      <td>2008</td>\n",
       "      <td>2003</td>\n",
       "      <td>208500</td>\n",
       "    </tr>\n",
       "    <tr>\n",
       "      <th>1</th>\n",
       "      <td>2007</td>\n",
       "      <td>1976</td>\n",
       "      <td>181500</td>\n",
       "    </tr>\n",
       "    <tr>\n",
       "      <th>2</th>\n",
       "      <td>2008</td>\n",
       "      <td>2001</td>\n",
       "      <td>223500</td>\n",
       "    </tr>\n",
       "    <tr>\n",
       "      <th>3</th>\n",
       "      <td>2006</td>\n",
       "      <td>1915</td>\n",
       "      <td>140000</td>\n",
       "    </tr>\n",
       "    <tr>\n",
       "      <th>4</th>\n",
       "      <td>2008</td>\n",
       "      <td>2000</td>\n",
       "      <td>250000</td>\n",
       "    </tr>\n",
       "    <tr>\n",
       "      <th>5</th>\n",
       "      <td>2009</td>\n",
       "      <td>1993</td>\n",
       "      <td>143000</td>\n",
       "    </tr>\n",
       "    <tr>\n",
       "      <th>6</th>\n",
       "      <td>2007</td>\n",
       "      <td>2004</td>\n",
       "      <td>307000</td>\n",
       "    </tr>\n",
       "    <tr>\n",
       "      <th>7</th>\n",
       "      <td>2009</td>\n",
       "      <td>1973</td>\n",
       "      <td>200000</td>\n",
       "    </tr>\n",
       "    <tr>\n",
       "      <th>8</th>\n",
       "      <td>2008</td>\n",
       "      <td>1931</td>\n",
       "      <td>129900</td>\n",
       "    </tr>\n",
       "    <tr>\n",
       "      <th>9</th>\n",
       "      <td>2008</td>\n",
       "      <td>1939</td>\n",
       "      <td>118000</td>\n",
       "    </tr>\n",
       "  </tbody>\n",
       "</table>\n",
       "</div>"
      ],
      "text/plain": [
       "   YrSold  YearBuilt  SalePrice\n",
       "0    2008       2003     208500\n",
       "1    2007       1976     181500\n",
       "2    2008       2001     223500\n",
       "3    2006       1915     140000\n",
       "4    2008       2000     250000\n",
       "5    2009       1993     143000\n",
       "6    2007       2004     307000\n",
       "7    2009       1973     200000\n",
       "8    2008       1931     129900\n",
       "9    2008       1939     118000"
      ]
     },
     "execution_count": 422,
     "metadata": {},
     "output_type": "execute_result"
    }
   ],
   "source": [
    "df_simple"
   ]
  },
  {
   "cell_type": "markdown",
   "metadata": {},
   "source": [
    "## 1. Fit a model - F(x)"
   ]
  },
  {
   "cell_type": "code",
   "execution_count": 423,
   "metadata": {},
   "outputs": [],
   "source": [
    "ensemble = []"
   ]
  },
  {
   "cell_type": "code",
   "execution_count": 424,
   "metadata": {},
   "outputs": [
    {
     "data": {
      "image/svg+xml": [
       "<?xml version=\"1.0\" encoding=\"UTF-8\" standalone=\"no\"?>\r\n",
       "<!DOCTYPE svg PUBLIC \"-//W3C//DTD SVG 1.1//EN\"\r\n",
       " \"http://www.w3.org/Graphics/SVG/1.1/DTD/svg11.dtd\">\r\n",
       "<!-- Generated by graphviz version 2.38.0 (20140413.2041)\r\n",
       " -->\r\n",
       "<!-- Title: G Pages: 1 -->\r\n",
       "<svg width=\"350pt\" height=\"116pt\"\r\n",
       " viewBox=\"0.00 0.00 349.84 116.00\" xmlns=\"http://www.w3.org/2000/svg\" xmlns:xlink=\"http://www.w3.org/1999/xlink\">\r\n",
       "<g id=\"graph0\" class=\"graph\" transform=\"scale(1 1) rotate(0) translate(4 112)\">\r\n",
       "<title>G</title>\r\n",
       "<polygon fill=\"white\" stroke=\"none\" points=\"-4,4 -4,-112 345.836,-112 345.836,4 -4,4\"/>\r\n",
       "<!-- 10 (2000, &#39;LotArea&#39;) 190140.0 -->\r\n",
       "<g id=\"node1\" class=\"node\"><title>10 (2000, &#39;LotArea&#39;) 190140.0</title>\r\n",
       "<ellipse fill=\"none\" stroke=\"black\" cx=\"192.691\" cy=\"-90\" rx=\"119.679\" ry=\"18\"/>\r\n",
       "<text text-anchor=\"middle\" x=\"192.691\" y=\"-86.3\" font-family=\"Times New Roman,serif\" font-size=\"14.00\">10 (2000, &#39;LotArea&#39;) 190140.0</text>\r\n",
       "</g>\r\n",
       "<!-- 6 () 152066.66666666666 -->\r\n",
       "<g id=\"node2\" class=\"node\"><title>6 () 152066.66666666666</title>\r\n",
       "<ellipse fill=\"none\" stroke=\"black\" cx=\"102.691\" cy=\"-18\" rx=\"102.882\" ry=\"18\"/>\r\n",
       "<text text-anchor=\"middle\" x=\"102.691\" y=\"-14.3\" font-family=\"Times New Roman,serif\" font-size=\"14.00\">6 () 152066.66666666666</text>\r\n",
       "</g>\r\n",
       "<!-- 10 (2000, &#39;LotArea&#39;) 190140.0&#45;&#45;6 () 152066.66666666666 -->\r\n",
       "<g id=\"edge1\" class=\"edge\"><title>10 (2000, &#39;LotArea&#39;) 190140.0&#45;&#45;6 () 152066.66666666666</title>\r\n",
       "<path fill=\"none\" stroke=\"black\" d=\"M170.904,-72.055C156.754,-61.0492 138.387,-46.7636 124.277,-35.789\"/>\r\n",
       "</g>\r\n",
       "<!-- 4 () 247250.0 -->\r\n",
       "<g id=\"node3\" class=\"node\"><title>4 () 247250.0</title>\r\n",
       "<ellipse fill=\"none\" stroke=\"black\" cx=\"282.691\" cy=\"-18\" rx=\"59.2899\" ry=\"18\"/>\r\n",
       "<text text-anchor=\"middle\" x=\"282.691\" y=\"-14.3\" font-family=\"Times New Roman,serif\" font-size=\"14.00\">4 () 247250.0</text>\r\n",
       "</g>\r\n",
       "<!-- 10 (2000, &#39;LotArea&#39;) 190140.0&#45;&#45;4 () 247250.0 -->\r\n",
       "<g id=\"edge2\" class=\"edge\"><title>10 (2000, &#39;LotArea&#39;) 190140.0&#45;&#45;4 () 247250.0</title>\r\n",
       "<path fill=\"none\" stroke=\"black\" d=\"M214.477,-72.055C228.94,-60.8064 247.807,-46.1317 262.032,-35.0676\"/>\r\n",
       "</g>\r\n",
       "</g>\r\n",
       "</svg>\r\n"
      ],
      "text/plain": [
       "<graphviz.dot.Graph at 0x1648bcedba8>"
      ]
     },
     "execution_count": 424,
     "metadata": {},
     "output_type": "execute_result"
    }
   ],
   "source": [
    "ensemble.append(create_tree(X, Y, np.arange(X.shape[0]), max_depth=1, col_proc=1))\n",
    "plot_tree(ensemble[-1])"
   ]
  },
  {
   "cell_type": "code",
   "execution_count": 439,
   "metadata": {},
   "outputs": [
    {
     "data": {
      "text/plain": [
       "<matplotlib.collections.PathCollection at 0x1648c0af6d8>"
      ]
     },
     "execution_count": 439,
     "metadata": {},
     "output_type": "execute_result"
    },
    {
     "data": {
      "image/png": "[encoded data removed]",
      "text/plain": [
       "<Figure size 1152x648 with 1 Axes>"
      ]
     },
     "metadata": {
      "needs_background": "light"
     },
     "output_type": "display_data"
    }
   ],
   "source": [
    "plt.scatter(Y, [predict_tree(ensemble[0], sample) for sample in X])"
   ]
  },
  {
   "cell_type": "markdown",
   "metadata": {},
   "source": [
    "## Compute residuals"
   ]
  },
  {
   "cell_type": "code",
   "execution_count": 425,
   "metadata": {},
   "outputs": [
    {
     "data": {
      "text/html": [
       "<div>\n",
       "<style scoped>\n",
       "    .dataframe tbody tr th:only-of-type {\n",
       "        vertical-align: middle;\n",
       "    }\n",
       "\n",
       "    .dataframe tbody tr th {\n",
       "        vertical-align: top;\n",
       "    }\n",
       "\n",
       "    .dataframe thead th {\n",
       "        text-align: right;\n",
       "    }\n",
       "</style>\n",
       "<table border=\"1\" class=\"dataframe\">\n",
       "  <thead>\n",
       "    <tr style=\"text-align: right;\">\n",
       "      <th></th>\n",
       "      <th>YrSold</th>\n",
       "      <th>YearBuilt</th>\n",
       "      <th>SalePrice</th>\n",
       "      <th>p1</th>\n",
       "      <th>r1</th>\n",
       "    </tr>\n",
       "  </thead>\n",
       "  <tbody>\n",
       "    <tr>\n",
       "      <th>0</th>\n",
       "      <td>2008</td>\n",
       "      <td>2003</td>\n",
       "      <td>208500</td>\n",
       "      <td>247250.000000</td>\n",
       "      <td>-38750.000000</td>\n",
       "    </tr>\n",
       "    <tr>\n",
       "      <th>1</th>\n",
       "      <td>2007</td>\n",
       "      <td>1976</td>\n",
       "      <td>181500</td>\n",
       "      <td>152066.666667</td>\n",
       "      <td>29433.333333</td>\n",
       "    </tr>\n",
       "    <tr>\n",
       "      <th>2</th>\n",
       "      <td>2008</td>\n",
       "      <td>2001</td>\n",
       "      <td>223500</td>\n",
       "      <td>247250.000000</td>\n",
       "      <td>-23750.000000</td>\n",
       "    </tr>\n",
       "    <tr>\n",
       "      <th>3</th>\n",
       "      <td>2006</td>\n",
       "      <td>1915</td>\n",
       "      <td>140000</td>\n",
       "      <td>152066.666667</td>\n",
       "      <td>-12066.666667</td>\n",
       "    </tr>\n",
       "    <tr>\n",
       "      <th>4</th>\n",
       "      <td>2008</td>\n",
       "      <td>2000</td>\n",
       "      <td>250000</td>\n",
       "      <td>247250.000000</td>\n",
       "      <td>2750.000000</td>\n",
       "    </tr>\n",
       "    <tr>\n",
       "      <th>5</th>\n",
       "      <td>2009</td>\n",
       "      <td>1993</td>\n",
       "      <td>143000</td>\n",
       "      <td>152066.666667</td>\n",
       "      <td>-9066.666667</td>\n",
       "    </tr>\n",
       "    <tr>\n",
       "      <th>6</th>\n",
       "      <td>2007</td>\n",
       "      <td>2004</td>\n",
       "      <td>307000</td>\n",
       "      <td>247250.000000</td>\n",
       "      <td>59750.000000</td>\n",
       "    </tr>\n",
       "    <tr>\n",
       "      <th>7</th>\n",
       "      <td>2009</td>\n",
       "      <td>1973</td>\n",
       "      <td>200000</td>\n",
       "      <td>152066.666667</td>\n",
       "      <td>47933.333333</td>\n",
       "    </tr>\n",
       "    <tr>\n",
       "      <th>8</th>\n",
       "      <td>2008</td>\n",
       "      <td>1931</td>\n",
       "      <td>129900</td>\n",
       "      <td>152066.666667</td>\n",
       "      <td>-22166.666667</td>\n",
       "    </tr>\n",
       "    <tr>\n",
       "      <th>9</th>\n",
       "      <td>2008</td>\n",
       "      <td>1939</td>\n",
       "      <td>118000</td>\n",
       "      <td>152066.666667</td>\n",
       "      <td>-34066.666667</td>\n",
       "    </tr>\n",
       "  </tbody>\n",
       "</table>\n",
       "</div>"
      ],
      "text/plain": [
       "   YrSold  YearBuilt  SalePrice             p1            r1\n",
       "0    2008       2003     208500  247250.000000 -38750.000000\n",
       "1    2007       1976     181500  152066.666667  29433.333333\n",
       "2    2008       2001     223500  247250.000000 -23750.000000\n",
       "3    2006       1915     140000  152066.666667 -12066.666667\n",
       "4    2008       2000     250000  247250.000000   2750.000000\n",
       "5    2009       1993     143000  152066.666667  -9066.666667\n",
       "6    2007       2004     307000  247250.000000  59750.000000\n",
       "7    2009       1973     200000  152066.666667  47933.333333\n",
       "8    2008       1931     129900  152066.666667 -22166.666667\n",
       "9    2008       1939     118000  152066.666667 -34066.666667"
      ]
     },
     "execution_count": 425,
     "metadata": {},
     "output_type": "execute_result"
    }
   ],
   "source": [
    "predictions = np.array([predict_tree(ensemble[-1], sample) for sample in X])\n",
    "df_simple['p1'] = predictions\n",
    "df_simple['r1'] = Y - predictions\n",
    "df_simple"
   ]
  },
  {
   "cell_type": "code",
   "execution_count": 426,
   "metadata": {},
   "outputs": [
    {
     "data": {
      "text/plain": [
       "(1068688333.3333334, 0.029237410094233335)"
      ]
     },
     "execution_count": 426,
     "metadata": {},
     "output_type": "execute_result"
    }
   ],
   "source": [
    "mean_squared_error(Y, predictions), mean_squared_log_error(Y, predictions)"
   ]
  },
  {
   "cell_type": "markdown",
   "metadata": {},
   "source": [
    "## Fit more learner on residuals - h(x)"
   ]
  },
  {
   "cell_type": "markdown",
   "metadata": {},
   "source": [
    "<img src=\"./media/boosted_stumps.gif\">"
   ]
  },
  {
   "cell_type": "code",
   "execution_count": 427,
   "metadata": {},
   "outputs": [],
   "source": [
    "next_learner = 2"
   ]
  },
  {
   "cell_type": "code",
   "execution_count": 432,
   "metadata": {},
   "outputs": [
    {
     "data": {
      "image/svg+xml": [
       "<?xml version=\"1.0\" encoding=\"UTF-8\" standalone=\"no\"?>\r\n",
       "<!DOCTYPE svg PUBLIC \"-//W3C//DTD SVG 1.1//EN\"\r\n",
       " \"http://www.w3.org/Graphics/SVG/1.1/DTD/svg11.dtd\">\r\n",
       "<!-- Generated by graphviz version 2.38.0 (20140413.2041)\r\n",
       " -->\r\n",
       "<!-- Title: G Pages: 1 -->\r\n",
       "<svg width=\"426pt\" height=\"116pt\"\r\n",
       " viewBox=\"0.00 0.00 426.18 116.00\" xmlns=\"http://www.w3.org/2000/svg\" xmlns:xlink=\"http://www.w3.org/1999/xlink\">\r\n",
       "<g id=\"graph0\" class=\"graph\" transform=\"scale(1 1) rotate(0) translate(4 112)\">\r\n",
       "<title>G</title>\r\n",
       "<polygon fill=\"white\" stroke=\"none\" points=\"-4,4 -4,-112 422.182,-112 422.182,4 -4,4\"/>\r\n",
       "<!-- 10 (2009, &#39;YrSold&#39;) &#45;5.820766091346741e&#45;12 -->\r\n",
       "<g id=\"node1\" class=\"node\"><title>10 (2009, &#39;YrSold&#39;) &#45;5.820766091346741e&#45;12</title>\r\n",
       "<ellipse fill=\"none\" stroke=\"black\" cx=\"210.391\" cy=\"-90\" rx=\"174.369\" ry=\"18\"/>\r\n",
       "<text text-anchor=\"middle\" x=\"210.391\" y=\"-86.3\" font-family=\"Times New Roman,serif\" font-size=\"14.00\">10 (2009, &#39;YrSold&#39;) &#45;5.820766091346741e&#45;12</text>\r\n",
       "</g>\r\n",
       "<!-- 8 () &#45;6518.055555555562 -->\r\n",
       "<g id=\"node2\" class=\"node\"><title>8 () &#45;6518.055555555562</title>\r\n",
       "<ellipse fill=\"none\" stroke=\"black\" cx=\"101.391\" cy=\"-18\" rx=\"101.282\" ry=\"18\"/>\r\n",
       "<text text-anchor=\"middle\" x=\"101.391\" y=\"-14.3\" font-family=\"Times New Roman,serif\" font-size=\"14.00\">8 () &#45;6518.055555555562</text>\r\n",
       "</g>\r\n",
       "<!-- 10 (2009, &#39;YrSold&#39;) &#45;5.820766091346741e&#45;12&#45;&#45;8 () &#45;6518.055555555562 -->\r\n",
       "<g id=\"edge1\" class=\"edge\"><title>10 (2009, &#39;YrSold&#39;) &#45;5.820766091346741e&#45;12&#45;&#45;8 () &#45;6518.055555555562</title>\r\n",
       "<path fill=\"none\" stroke=\"black\" d=\"M184.005,-72.055C166.742,-60.9683 144.295,-46.5533 127.158,-35.5475\"/>\r\n",
       "</g>\r\n",
       "<!-- 2 () 26072.22222222222 -->\r\n",
       "<g id=\"node3\" class=\"node\"><title>2 () 26072.22222222222</title>\r\n",
       "<ellipse fill=\"none\" stroke=\"black\" cx=\"319.391\" cy=\"-18\" rx=\"98.5829\" ry=\"18\"/>\r\n",
       "<text text-anchor=\"middle\" x=\"319.391\" y=\"-14.3\" font-family=\"Times New Roman,serif\" font-size=\"14.00\">2 () 26072.22222222222</text>\r\n",
       "</g>\r\n",
       "<!-- 10 (2009, &#39;YrSold&#39;) &#45;5.820766091346741e&#45;12&#45;&#45;2 () 26072.22222222222 -->\r\n",
       "<g id=\"edge2\" class=\"edge\"><title>10 (2009, &#39;YrSold&#39;) &#45;5.820766091346741e&#45;12&#45;&#45;2 () 26072.22222222222</title>\r\n",
       "<path fill=\"none\" stroke=\"black\" d=\"M236.777,-72.055C254.04,-60.9683 276.487,-46.5533 293.624,-35.5475\"/>\r\n",
       "</g>\r\n",
       "</g>\r\n",
       "</svg>\r\n"
      ],
      "text/plain": [
       "<graphviz.dot.Graph at 0x1648b6f7668>"
      ]
     },
     "execution_count": 432,
     "metadata": {},
     "output_type": "execute_result"
    }
   ],
   "source": [
    "ensemble.append(create_tree(X, df_simple[f'r{next_learner - 1}'].values, np.arange(X.shape[0]), max_depth=1, col_proc=1))\n",
    "plot_tree(ensemble[-1])"
   ]
  },
  {
   "cell_type": "code",
   "execution_count": 433,
   "metadata": {},
   "outputs": [
    {
     "data": {
      "text/html": [
       "<div>\n",
       "<style scoped>\n",
       "    .dataframe tbody tr th:only-of-type {\n",
       "        vertical-align: middle;\n",
       "    }\n",
       "\n",
       "    .dataframe tbody tr th {\n",
       "        vertical-align: top;\n",
       "    }\n",
       "\n",
       "    .dataframe thead th {\n",
       "        text-align: right;\n",
       "    }\n",
       "</style>\n",
       "<table border=\"1\" class=\"dataframe\">\n",
       "  <thead>\n",
       "    <tr style=\"text-align: right;\">\n",
       "      <th></th>\n",
       "      <th>YrSold</th>\n",
       "      <th>YearBuilt</th>\n",
       "      <th>SalePrice</th>\n",
       "      <th>p1</th>\n",
       "      <th>r1</th>\n",
       "      <th>p2</th>\n",
       "      <th>r2</th>\n",
       "      <th>p3</th>\n",
       "      <th>r3</th>\n",
       "    </tr>\n",
       "  </thead>\n",
       "  <tbody>\n",
       "    <tr>\n",
       "      <th>0</th>\n",
       "      <td>2008</td>\n",
       "      <td>2003</td>\n",
       "      <td>208500</td>\n",
       "      <td>247250.000000</td>\n",
       "      <td>-38750.000000</td>\n",
       "      <td>240611.111111</td>\n",
       "      <td>-32111.111111</td>\n",
       "      <td>234093.055556</td>\n",
       "      <td>-25593.055556</td>\n",
       "    </tr>\n",
       "    <tr>\n",
       "      <th>1</th>\n",
       "      <td>2007</td>\n",
       "      <td>1976</td>\n",
       "      <td>181500</td>\n",
       "      <td>152066.666667</td>\n",
       "      <td>29433.333333</td>\n",
       "      <td>145427.777778</td>\n",
       "      <td>36072.222222</td>\n",
       "      <td>138909.722222</td>\n",
       "      <td>42590.277778</td>\n",
       "    </tr>\n",
       "    <tr>\n",
       "      <th>2</th>\n",
       "      <td>2008</td>\n",
       "      <td>2001</td>\n",
       "      <td>223500</td>\n",
       "      <td>247250.000000</td>\n",
       "      <td>-23750.000000</td>\n",
       "      <td>240611.111111</td>\n",
       "      <td>-17111.111111</td>\n",
       "      <td>234093.055556</td>\n",
       "      <td>-10593.055556</td>\n",
       "    </tr>\n",
       "    <tr>\n",
       "      <th>3</th>\n",
       "      <td>2006</td>\n",
       "      <td>1915</td>\n",
       "      <td>140000</td>\n",
       "      <td>152066.666667</td>\n",
       "      <td>-12066.666667</td>\n",
       "      <td>145427.777778</td>\n",
       "      <td>-5427.777778</td>\n",
       "      <td>138909.722222</td>\n",
       "      <td>1090.277778</td>\n",
       "    </tr>\n",
       "    <tr>\n",
       "      <th>4</th>\n",
       "      <td>2008</td>\n",
       "      <td>2000</td>\n",
       "      <td>250000</td>\n",
       "      <td>247250.000000</td>\n",
       "      <td>2750.000000</td>\n",
       "      <td>240611.111111</td>\n",
       "      <td>9388.888889</td>\n",
       "      <td>234093.055556</td>\n",
       "      <td>15906.944444</td>\n",
       "    </tr>\n",
       "    <tr>\n",
       "      <th>5</th>\n",
       "      <td>2009</td>\n",
       "      <td>1993</td>\n",
       "      <td>143000</td>\n",
       "      <td>152066.666667</td>\n",
       "      <td>-9066.666667</td>\n",
       "      <td>145427.777778</td>\n",
       "      <td>-2427.777778</td>\n",
       "      <td>171500.000000</td>\n",
       "      <td>-28500.000000</td>\n",
       "    </tr>\n",
       "    <tr>\n",
       "      <th>6</th>\n",
       "      <td>2007</td>\n",
       "      <td>2004</td>\n",
       "      <td>307000</td>\n",
       "      <td>247250.000000</td>\n",
       "      <td>59750.000000</td>\n",
       "      <td>307000.000000</td>\n",
       "      <td>0.000000</td>\n",
       "      <td>300481.944444</td>\n",
       "      <td>6518.055556</td>\n",
       "    </tr>\n",
       "    <tr>\n",
       "      <th>7</th>\n",
       "      <td>2009</td>\n",
       "      <td>1973</td>\n",
       "      <td>200000</td>\n",
       "      <td>152066.666667</td>\n",
       "      <td>47933.333333</td>\n",
       "      <td>145427.777778</td>\n",
       "      <td>54572.222222</td>\n",
       "      <td>171500.000000</td>\n",
       "      <td>28500.000000</td>\n",
       "    </tr>\n",
       "    <tr>\n",
       "      <th>8</th>\n",
       "      <td>2008</td>\n",
       "      <td>1931</td>\n",
       "      <td>129900</td>\n",
       "      <td>152066.666667</td>\n",
       "      <td>-22166.666667</td>\n",
       "      <td>145427.777778</td>\n",
       "      <td>-15527.777778</td>\n",
       "      <td>138909.722222</td>\n",
       "      <td>-9009.722222</td>\n",
       "    </tr>\n",
       "    <tr>\n",
       "      <th>9</th>\n",
       "      <td>2008</td>\n",
       "      <td>1939</td>\n",
       "      <td>118000</td>\n",
       "      <td>152066.666667</td>\n",
       "      <td>-34066.666667</td>\n",
       "      <td>145427.777778</td>\n",
       "      <td>-27427.777778</td>\n",
       "      <td>138909.722222</td>\n",
       "      <td>-20909.722222</td>\n",
       "    </tr>\n",
       "  </tbody>\n",
       "</table>\n",
       "</div>"
      ],
      "text/plain": [
       "   YrSold  YearBuilt  SalePrice             p1            r1             p2  \\\n",
       "0    2008       2003     208500  247250.000000 -38750.000000  240611.111111   \n",
       "1    2007       1976     181500  152066.666667  29433.333333  145427.777778   \n",
       "2    2008       2001     223500  247250.000000 -23750.000000  240611.111111   \n",
       "3    2006       1915     140000  152066.666667 -12066.666667  145427.777778   \n",
       "4    2008       2000     250000  247250.000000   2750.000000  240611.111111   \n",
       "5    2009       1993     143000  152066.666667  -9066.666667  145427.777778   \n",
       "6    2007       2004     307000  247250.000000  59750.000000  307000.000000   \n",
       "7    2009       1973     200000  152066.666667  47933.333333  145427.777778   \n",
       "8    2008       1931     129900  152066.666667 -22166.666667  145427.777778   \n",
       "9    2008       1939     118000  152066.666667 -34066.666667  145427.777778   \n",
       "\n",
       "             r2             p3            r3  \n",
       "0 -32111.111111  234093.055556 -25593.055556  \n",
       "1  36072.222222  138909.722222  42590.277778  \n",
       "2 -17111.111111  234093.055556 -10593.055556  \n",
       "3  -5427.777778  138909.722222   1090.277778  \n",
       "4   9388.888889  234093.055556  15906.944444  \n",
       "5  -2427.777778  171500.000000 -28500.000000  \n",
       "6      0.000000  300481.944444   6518.055556  \n",
       "7  54572.222222  171500.000000  28500.000000  \n",
       "8 -15527.777778  138909.722222  -9009.722222  \n",
       "9 -27427.777778  138909.722222 -20909.722222  "
      ]
     },
     "execution_count": 433,
     "metadata": {},
     "output_type": "execute_result"
    }
   ],
   "source": [
    "predictions = np.zeros(len(Y))\n",
    "for t in ensemble:\n",
    "    predictions += [predict_tree(t, sample) for sample in X]\n",
    "df_simple[f'p{next_learner}'] = predictions\n",
    "df_simple[f'r{next_learner}'] = Y - predictions\n",
    "df_simple"
   ]
  },
  {
   "cell_type": "code",
   "execution_count": 434,
   "metadata": {},
   "outputs": [
    {
     "data": {
      "text/plain": [
       "(502074529.3209877, 0.017968490219020167)"
      ]
     },
     "execution_count": 434,
     "metadata": {},
     "output_type": "execute_result"
    }
   ],
   "source": [
    "mean_squared_error(Y, predictions), mean_squared_log_error(Y, predictions)"
   ]
  },
  {
   "cell_type": "code",
   "execution_count": 435,
   "metadata": {},
   "outputs": [],
   "source": [
    "next_learner += 1"
   ]
  },
  {
   "cell_type": "code",
   "execution_count": 441,
   "metadata": {},
   "outputs": [
    {
     "data": {
      "text/plain": [
       "<matplotlib.collections.PathCollection at 0x1648c5d9eb8>"
      ]
     },
     "execution_count": 441,
     "metadata": {},
     "output_type": "execute_result"
    },
    {
     "data": {
      "image/png": "[encoded data removed]",
      "text/plain": [
       "<Figure size 1152x648 with 1 Axes>"
      ]
     },
     "metadata": {
      "needs_background": "light"
     },
     "output_type": "display_data"
    }
   ],
   "source": [
    "plt.scatter(Y, predictions)"
   ]
  },
  {
   "cell_type": "markdown",
   "metadata": {},
   "source": [
    "You always fit the next learner on **y - y_predicted**  \n",
    "You can start with any weak learner F(x) - for example the mean  \n",
    "Then, incrementally, every **step** helps you get in the **right direction**."
   ]
  },
  {
   "cell_type": "markdown",
   "metadata": {},
   "source": [
    "## Does it remind you of Gradient Descent?\n",
    "<img src=\"./media/matterhorn.jpg\">"
   ]
  },
  {
   "cell_type": "markdown",
   "metadata": {},
   "source": [
    "F(x) + h1(x) + ... + hn(X)"
   ]
  },
  {
   "cell_type": "markdown",
   "metadata": {},
   "source": [
    "### Minimize a loss\n",
    "\n",
    "\\begin{align}\n",
    "\\text{MSE}: L(y, \\text{y_pred}) = \\frac{1}{N} * \\sum{(\\text{y} - \\text{y_pred})^2}\n",
    "\\end{align}\n",
    "\n",
    "Gradient shows us 2 things:\n",
    "- the direction in which the function increases (we want to go down, so we invert the sign)\n",
    "- the steepness of the slope\n",
    "\n",
    "<img src=\"./media/grad2d.gif\">\n",
    "\n",
    "\\begin{align}\n",
    "\\text{Gradient descent}: x_{i} = x_{i-1} - \\eta * \\nabla f(x_{i - 1})\n",
    "\\end{align}\n",
    "\n",
    "\\begin{align}\n",
    "\\text{Gradient of L}: \\nabla L(y, \\text{y_pred}) = -2(y - \\text{y_pred}) \\\\\n",
    "\\end{align}\n",
    "\n",
    "\\begin{align}\n",
    "\\text{Gradient boosting}: F_i(x) = F_{i-1}(x) + \\eta * \\nabla_m(x)\n",
    "\\end{align}\n",
    "\n",
    "\\begin{align}\n",
    "\\text{Model}: F(x) + \\eta * h_1(x_1) + \\eta * h_2(x_2) * ... * \\eta * h_n(x_n)\n",
    "\\end{align}\n",
    "\n",
    "<img src=\"./media/golf-MSE.png\">\n",
    "\n",
    "For catching up on math: https://explained.ai/matrix-calculus/index.html"
   ]
  },
  {
   "cell_type": "markdown",
   "metadata": {},
   "source": [
    "# XGBoost - Extreme?\n",
    "https://arxiv.org/pdf/1603.02754.pdf\n",
    "- regularization\n",
    "- scalability\n",
    "- 10 times faster\n",
    "- lots of optimizations, caching\n",
    "- runs on GPU"
   ]
  },
  {
   "cell_type": "markdown",
   "metadata": {},
   "source": [
    "# Real life comparison"
   ]
  },
  {
   "cell_type": "markdown",
   "metadata": {},
   "source": [
    "```\n",
    "+-------------+------------------+--------------------+\n",
    "|  4,865,545  |  Predicted YES   |    Predicted NO    |\n",
    "|   xgb:w-c   |                  |                    |\n",
    "+=============+==================+====================+\n",
    "| Actual YES  | 83.43% (948,394) |  16.57% (188,356)  |\n",
    "|  (23.36%)   |                  |        (fn)        |\n",
    "+-------------+------------------+--------------------+\n",
    "|  Actual NO  |  0.68% (25,413)  | 99.32% (3,702,623) |\n",
    "|  (76.62%)   |       (fp)       |                    |\n",
    "+-------------+------------------+--------------------+\n",
    "\n",
    "+-------------+------------------+--------------------+\n",
    "|  4,864,131  |  Predicted YES   |    Predicted NO    |\n",
    "|   rf:w-c    |                  |                    |\n",
    "+=============+==================+====================+\n",
    "| Actual YES  | 86.48% (979,967) |  13.52% (153,217)  |\n",
    "|  (23.30%)   |                  |        (fn)        |\n",
    "+-------------+------------------+--------------------+\n",
    "|  Actual NO  |  0.75% (27,893)  | 99.25% (3,697,473) |\n",
    "|  (76.59%)   |       (fp)       |                    |\n",
    "+-------------+------------------+--------------------+\n",
    "\n",
    "+-------------+------------------+--------------------+\n",
    "|  4,862,386  |  Predicted YES   |    Predicted NO    |\n",
    "|  ultra:w-c  |                  |                    |\n",
    "+=============+==================+====================+\n",
    "| Actual YES  | 78.33% (889,761) |  21.67% (246,099)  |\n",
    "|  (23.36%)   |                  |        (fn)        |\n",
    "+-------------+------------------+--------------------+\n",
    "|  Actual NO  |  1.01% (37,488)  | 98.99% (3,688,280) |\n",
    "|  (76.62%)   |       (fp)       |                    |\n",
    "+-------------+------------------+--------------------+\n",
    "```"
   ]
  }
 ],
 "metadata": {
  "celltoolbar": "Raw Cell Format",
  "kernelspec": {
   "display_name": "Python 3",
   "language": "python",
   "name": "python3"
  },
  "language_info": {
   "codemirror_mode": {
    "name": "ipython",
    "version": 3
   },
   "file_extension": ".py",
   "mimetype": "text/x-python",
   "name": "python",
   "nbconvert_exporter": "python",
   "pygments_lexer": "ipython3",
   "version": "3.6.8"
  }
 },
 "nbformat": 4,
 "nbformat_minor": 2
}
